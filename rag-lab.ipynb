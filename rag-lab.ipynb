{
 "cells": [
  {
   "cell_type": "markdown",
   "id": "a2b92998",
   "metadata": {},
   "source": [
    "# Document Ingestion (Indexing)"
   ]
  },
  {
   "cell_type": "code",
   "execution_count": 32,
   "id": "b6b24921",
   "metadata": {},
   "outputs": [],
   "source": [
    "from youtube_transcript_api import YouTubeTranscriptApi\n",
    "from youtube_transcript_api.proxies import WebshareProxyConfig\n",
    "\n",
    "from langchain_text_splitters import RecursiveCharacterTextSplitter\n"
   ]
  },
  {
   "cell_type": "code",
   "execution_count": 33,
   "id": "ecba7b6b",
   "metadata": {},
   "outputs": [
    {
     "data": {
      "text/plain": [
       "True"
      ]
     },
     "execution_count": 33,
     "metadata": {},
     "output_type": "execute_result"
    }
   ],
   "source": [
    "import os\n",
    "from dotenv import load_dotenv\n",
    "load_dotenv()\n"
   ]
  },
  {
   "cell_type": "markdown",
   "id": "44f80199",
   "metadata": {},
   "source": [
    "## Getting trascript of the yt video "
   ]
  },
  {
   "cell_type": "code",
   "execution_count": 34,
   "id": "9006178d",
   "metadata": {},
   "outputs": [
    {
     "name": "stdout",
     "output_type": "stream",
     "text": [
      "9915\n"
     ]
    }
   ],
   "source": [
    "ytt_api = YouTubeTranscriptApi(\n",
    "#    proxy_config=WebshareProxyConfig(\n",
    "#         proxy_username=os.getenv(\"PROXY_USERNAME\"),\n",
    "#         proxy_password=os.getenv(\"PROXY_PASSWORD\"),\n",
    "#     )\n",
    "    )\n",
    "\n",
    "# fetched_transcript = ytt_api.fetch(\"Pmd6knanPKw\",languages=[\"en\",\"hi\"])\n",
    "video_id = \"P14cRV-m6ZY\"\n",
    "fetched_transcript = ytt_api.fetch(video_id,languages=[\"en\",\"hi\"])\n",
    "\n",
    "transcript = \"\"\n",
    "\n",
    "for snippet in fetched_transcript:\n",
    "   transcript= transcript + \" \" + snippet.text\n",
    "\n",
    "print(len(transcript.split(\" \"))) #~13000 tokens"
   ]
  },
  {
   "cell_type": "code",
   "execution_count": 35,
   "id": "9086ef72",
   "metadata": {},
   "outputs": [
    {
     "data": {
      "text/plain": [
       "FetchedTranscriptSnippet(text='You know, whenever I read the Bhagavad Gita, especially commentaries upon it, explanations,', start=13.003, duration=5.797)"
      ]
     },
     "execution_count": 35,
     "metadata": {},
     "output_type": "execute_result"
    }
   ],
   "source": [
    "fetched_transcript[0]"
   ]
  },
  {
   "cell_type": "code",
   "execution_count": 36,
   "id": "aaaf37ab",
   "metadata": {},
   "outputs": [
    {
     "name": "stdout",
     "output_type": "stream",
     "text": [
      "You might think, Atman, who or what is that?\n",
      "who am I?\n",
      "Or more precisely, what am I?\n",
      "artist or am I a good person or a bad person?\n",
      "What does Sri Krishna say?\n",
      "Tvameva viditva atimrityu meti, nanyah panthah vidyate ayanayaÓ. Beautiful verse. What does it mean? ŌShrinwantu Vishwe Amritasya Putraaha.Ó\n",
      "What is this truth?\n",
      "What is it like?\n",
      "sand between land, between sea and land, what shall I build against the falling of the night?\n",
      "What shall I make against the falling?\n",
      "Falling of the night is death, it's coming, so what shall I build?\n",
      "And what happens if you realize this reality, if you find this reality?\n",
      "Any other way?\n",
      "Can we have genetic engineering or something like that to transcend death?\n",
      "If that is beyond death, by experiencing it, how do I go beyond death?\n",
      "Do you see the question?\n",
      "But how does that help me?\n",
      "Do you know what it is?\n",
      "Did you catch that?\n",
      "I go beyond death by realizing that reality?\n",
      "Ultimately, what good is it to you or me?\n",
      "anything, I have not attained anything, then what good is it to me or you?\n",
      "to you or me?\n",
      "If everybody is transformed, not into a yogi, into Sri Ramakrishna, into an avatar, so what?\n",
      "For me, it's great for them, but what about us?\n",
      "What is our feeling about ourselves?\n",
      "He says, then what is birth and death?\n",
      "And I experience the changes of what?\n",
      "Where is childhood?\n",
      "Where?\n",
      "Didn't you see the hair thinning out and growing gray?\n",
      "Didn't you see the teeth falling out?\n",
      "Didn't you see the eyesight dimming?\n",
      "sad when you see a beloved elder Swami passing away?\n",
      "O death, what fear does thou hold for me?\n",
      "What fear do you show me?\n",
      "What fear does death hold for me?\n",
      "You'd say, what proof?\n",
      "But what is the proof of a subtle body?\n",
      "What are we trying to understand?\n",
      "What happens at death?\n",
      "Why?\n",
      "First of all, where is the proof that the subtle body is gone?\n",
      "know that the person is dead?\n",
      "Where is the proof?\n",
      "can you talk with the official who is behind the counter?\n",
      "Where is the proof that that person is gone?\n",
      "Now, do you see the problem there?\n",
      "how are they transmitted in the new birth?\n",
      "What comes to the new birth?\n",
      "What happens at death?\n",
      "What body do we mean?\n",
      "What do I intend to prove by this?\n",
      "what will happen to that entity?\n",
      "what will happen to it?\n",
      "Second one, if you ask what is it actually?\n",
      "then what is it?\n",
      "What's the nature?\n",
      "What's the material?\n",
      "What will you say?\n",
      "and then something apart from you will be?\n",
      "How did we come to that?\n",
      "You know what it means?\n",
      "and yet we experience it, how is it possible?\n",
      "An appearance of what?\n",
      "The snake is an appearance of what?\n",
      "Then what are all these things?\n",
      "How can I be all pervading?\n",
      "what do you realize?\n",
      "Do you see what I mean by that?\n",
      "were pervaded by me, the dreamer?\n",
      "Can I say that?\n",
      "Can we all say that?\n",
      "What is true of the dream world and the dreamer's mind?\n",
      "True or not?\n",
      "Are you with me so far?\n",
      "and in which I'm experiencing body, mind and world?\n",
      "Are you with me there also?\n",
      "Do you at least get the trend of thought?\n",
      "that I am all pervading?\n",
      "I am here and not there, and how can I be all pervading?\n",
      "and how can I be all pervading?\n",
      "To sarva vyapi kaise hoon?\n",
      "How can I be all pervading?\n",
      "And you know what the answer was?\n",
      "are they not both in your awareness?\n",
      "I'm speaking as what?\n",
      "Can you not say exactly the same thing in your dreams?\n",
      "I say, what silliness?\n",
      "When you wake up, who would be right?\n",
      "Where is it?\n",
      "Where is this precious atman you're talking about?\n",
      "What does it mean?\n",
      "Instruments of knowledge, how do you know anything?\n",
      "what right do you have to say such a thing exists?\n",
      "True or not?\n",
      "You will say, how do you know?\n",
      "But do you know what that means?\n",
      "what right do you have to say that it exists?\n",
      "Where?\n",
      "But how do you know that there was a photographer?\n",
      "how do you know that there is consciousness?\n",
      "Who is the one doubting?\n",
      "What is the one doubting?\n",
      "What is that?\n",
      "He says if this red slayer, why red slayer?\n",
      "So, nowadays there's these, what do they call?\n",
      "What is the chain?\n",
      "What does Vedanta offer in this chain of karma?\n",
      "What atman?\n",
      "Who is born with the birth of the body?\n",
      "Who experiences death?\n",
      "Whom will you criticize?\n",
      "Whom will you hate?\n",
      "Then whom to hate, whom to criticize, whom to praise?\n",
      "What else are you other than that?\n",
      "Right?\n",
      "we are that atman already, but why potential?\n"
     ]
    }
   ],
   "source": [
    "for snippet in fetched_transcript:\n",
    "   if \"?\" in snippet.text:\n",
    "      print(snippet.text)"
   ]
  },
  {
   "cell_type": "code",
   "execution_count": 37,
   "id": "2bd068b4",
   "metadata": {},
   "outputs": [
    {
     "name": "stdout",
     "output_type": "stream",
     "text": [
      " You know, whenever I read the Bhagavad Gita, especially commentaries upon it, explanations, there are different approaches to it. Some say the central teaching of the Gita is bhakti, devotion. Some say the central teaching of the Gita is action. Sri Krishna relentlessly urges Arjuna into action. Some say it is duty. Another way of looking at the Bhagavad Gita is that it is a manual on spiritual life with teachings about God and avatar and meditation and so on. All of which, no doubt, are true. But if you actually look at the Bhagavad Gita itself, when Sri Krishna starts teaching Arjuna, the first thing he teaches Arjuna is probably the central message of Vedanta. I'm saying it very carefully, central message of Vedanta. I did not say central message of Gita because the central message of Gita and the central message of Vedanta are one and the same. The Gita is part of Vedanta. Gita in itself may have a unique approach to it. There may be something special in the Gita over and above the general message of Vedanta. But first of all, we must appreciate the central teaching, the general message of Vedanta. And that is, without any doubt, the teaching on the Atman. That is our subject this morning. You might think, Atman, who or what is that? It's you. It's our real nature, what we are. If you notice what Sri Krishna starts off with in the second chapter, after Arjuna has finished his lamentations and his questions and his doubts, Sri Krishna starts off by teaching Arjuna the doctrine of the Atman, what we really are. Not what we think of ourselves, but what we really are. And this is the central teaching of Vedanta, that if we would really know ourselves as we truly are, Atman means the self, the essence, the self, what we truly are. If we know that, who am I or what am I, then all our problems would actually be solved. All the rest, God, the teachings about God, the teachings about the creation of the universe, the teachings about incarnation, Avatar, the teachings about Bhakti and Jnana, love and devotion and knowledge, the teachings about meditation, teachings about action, Karma, all of them come afterwards. Chronologically in the Gita also, you see that they come afterwards. The first teaching, the very first teaching from approximately the 11th verse where Sri Krishna starts speaking, starts teaching Arjuna, to about the 25th verse of the second chapter is a concentrated teaching on the Vedantic doctrine of the Atman, the answer to the question, who am I? Or more precisely, what am I? Because who am I, it can lead to a different kind of thinking, especially in our world today in this country, who am I would mean that am I born to be a musician or am I an artist or am I a good person or a bad person? These are questions related to the personality, the mind, our dispositions. But beyond that there is an essential nature to ourselves, a spiritual nature, deeper than that, deeper than the person, that's what the Atman is. The teaching about the Atman is the real nature beyond the differing personalities which we are. What does Sri Krishna say? The first thing which he says and he repeats it again and again is that the Atman is beyond death. A simple statement but a very powerful statement. The essential teaching of any kind, not only Vedanta, any kind of spirituality, in any religion, in all the religions is this conquest of death, transcendence of death. If death of the body is the end of us, there's nothing more left over, then there's no religion actually. That's the end of religion. There can be no point to any kind of religion if there is no existence after death. So this transcendence of death, that is the first teaching about the Atman which Sri Krishna gives. Swami Vivekananda, when he came to this country more than a hundred years ago, one of the verses he loved quoting, chanting the original Sanskrit and then translating for the benefit of his audiences here in the United States was this. The immortality of the Atman. It goes like this. It's a very famous mantra from the Upanishads. ŌShrinwantu Vishwe Amritasya Putraaha. Aaye dhamani divyani tastu. Vedaaham purusham mahaantam. Aditya varanam tamasah parastath. Tvameva viditva atimrityu meti, nanyah panthah vidyate ayanayaÓ. Beautiful verse. What does it mean? ŌShrinwantu Vishwe Amritasya Putraaha.Ó Listen ye children of immortal bliss. The very first line is striking. We think of ourselves, the first truth that we think of ourselves is that we are mortal. We are fated to die. Theists and atheists, people who are believers and non-believers, everybody dies. All those who we have known in the past, grandparents and parents, maybe they are dead. And all are passing out of this world and so will we one day. So death is the first, is the fundamental truth. We don't like dwelling upon it. It's an unpleasant truth to dwell upon. But it's a truth nobody can deny. In fact, I mentioned this book earlier, The Denial of Death, Ernst Becker, who won a Pulitzer Prize for it. He got the prize, I think, just before he died. Okay, morbid humor. But it's very touching. Actually, he was interviewed by a very well-known journalist from the Science Magazine or something. He was already on his deathbed and he talked about the denial of death, how we tend to resist this idea that we are going to die. It's a pretty morbid book. I'm not recommending it as reading, but it's pretty deep also. It shows that most of the things which we do in life, he calls them immortality projects, including religion, children, grandchildren, founding companies, businesses, writing books, including the denial of death, and so on and so forth. All of these activities, charities, all of these activities are basically denial of death. He calls them immortality projects. So this is, it haunts us. Even when we do not think about it directly, we don't like to think about it directly. And here is the first line of this mantra, Amritasya Putraaha, children of immortal bliss. It says that we are immortal. We are not mortal, though our bodies be mortal. And he says that this truth is not known to everybody. This is, he says, Aaye dhamani divyani tastu, if there are gods in higher heavens, then you listen to this truth too, which I'm teaching you because you do not know about it. What is this truth? Vedaham purusham mahaantam, I have realized that infinite being, there is a reality, an infinite reality. What is it like? Adityavarnam, blazing forth with the light like the sun. Not a material light, like this light or the light like the sun also. The light of awareness, of consciousness. Adityavarnam, tamasah parastath, forever beyond darkness, forever beyond the darkness of death, of disease, of limitation, beyond all darkness, beyond the darkness of human limitation and suffering. Tamasah parastath. I was reading this book, A Mathematician's Apology, G.H. Hardy, a friend of mine who is a monk and a mathematician, I recommended it strongly. You know, Hardy is the one who collaborated with Ramanujam. So in his book, he starts off that one of the great motivations for doing mathematics is, he quotes from a beautiful poem, you know, that now on this level sand, now on this level sand between land, between sea and land, what shall I build against the falling of the night? What shall I make against the falling? Falling of the night is death, it's coming, so what shall I build? And it's a very evocative thing, whatever you're building on sand also is built in sand, it will go away one day. So, Tamasah parastath, he says against the falling of the light, there is something, against the falling of the night, he says there is something beyond darkness. This thing which he has realized, he says, is beyond darkness, is beyond the falling of the night. There's this famous poem, do not go gentle into the, Dylan Thomas, into the night, rage, rage, rage against the dying of the light, I've forgotten the exact poem. It's what, understanding what he's trying to say and what is the response of Vedanta to that, we'll see. In fact, Krishna's teaching about the Atman here is a direct response to that. Tamasah parastath, beyond darkness, there is a reality. And what happens if you realize this reality, if you find this reality? Tameva viditva ati mrtyu meti, by realizing that, one transcends death. Any other way? Can we have genetic engineering or something like that to transcend death? Nanyah panthah vidyate ayanaya, there is no other way. There is no other way. Every way, science or medicine or entertainment, it solves our problems for a while, and one type of problem, but they are replaced by other problems. All the same problems come back with redoubled force a little later. So there is something which you realize which is beyond death, and if you realize that, you go beyond death. If you think closely and read between the lines, if there is such a thing, and I realize it, I find it, I see it, I experience it, that is beyond death. If that is beyond death, by experiencing it, how do I go beyond death? Do you see the question? There is something, which is wonderful, that it is something extraordinary, call it God or Brahman or whatever, and it is immortal, it does not die, it is beyond suffering and death. How nice! But how does that help me? It says that by realizing that you go beyond death, it means, it can only mean one thing. Do you know what it is? That realizing that means realizing that is I. Aham brahmasmi. That immortal reality is my reality. Since it is my reality, then I go beyond death. Did you catch that? That immortal reality, beyond death, is in some sense I must be that, otherwise how do I go beyond death by realizing that reality? If I am just the body, there is some ultimate reality which is not subject to death. Fine, it is not subject to death, but I am going to die. In some sense, I must be that ultimate reality. That is what we must realize. I remember meeting many, many years ago when I was a novice, the ashram where I joined, there was a very devoted elderly gentleman, he has passed away now so I can just, I can tell his name, Badal Babu, and he used to visit a very great monk, Swami Premeshananda, who was a disciple of Holy Mother. And Swami Premeshananda, Swami Premeshananda's letters are now available, letters of Swami Premeshananda. Many of the Bengali songs which we sing in our main monastery, they were written by Swami Premeshananda. He was even in his lifetime acknowledged as an enlightened person, jivanmukta. Now this Badal Babu, in his younger days, he used to visit Swami Premeshananda regularly. And he was a very religious young man, spiritually inclined, he would visit monks and yogis and spiritual masters and he would carry those stories back to Swami Premeshananda and he would say, you know, Swami, I met this other Swami or this other yogi and he has done such meditation or he has realized that or had that vision, this realization and so on. Wonderful, inspiring stories. One day, Swami Premeshananda said, with a great deal of pathos, you know, feeling to Badal Babu, who was narrating one more such story of spiritual realization by somebody. He said, my dear boy, if the whole world were to turn into Ramakrishna, everybody is Sri Ramakrishna, an incarnation of God. Ultimately, what good is it to you or me? Whole world, they all become spiritual giants, but we remain the same. Ultimately, say at the point of death, after knowing all these wonderful people and let it all be true, let them all have attained such spiritual heights, but you have not attained anything, I have not attained anything, then what good is it to me or you? In Bengali, he said, those who understand Bengali, you'll catch the flavor of it. He said, O Re Badla, if the whole world were to turn into Ramakrishna, what good is it to you or me? If everybody is transformed, not into a yogi, into Sri Ramakrishna, into an avatar, so what? For me, it's great for them, but what about us? We must realize this as I am that reality. This is what Sri Krishna first tells. The first thing he tells Arjuna is, there is a reality, your reality, which is beyond death. He starts off by saying that there never was a time when you were not there or I was not there or these assembled kings and warriors were not there. Remember, it is the Kurukshetra, the battlefield. And there will never be a time when you will not be there, when you will not exist. There will never be a time when I will not exist, there will never be a time when these assembled kings and warriors will not exist. This is the exact opposite of our intuitive feeling about ourselves. What is our feeling about ourselves? There was a time when I was not there, clearly, before I was born, I say, before this body was born, I was not there. This world was there, but I was not there in this world. And clearly there will come a time, I feel very strongly, when I will not be there. The world will go on, but I will not be there, we will not be there. We feel that. And here Krishna says straight away, just the opposite. There never was a time when you were not there, you were there. And there will never be a time when you will not be there, you will be there. He uses multiple negatives. There never was a time when you were not there, there never will be a time when you will not be there, which means, Nityam, eternal. The soul, the Atman is eternal. In Vedanta, they love using philosophical, logical language. They have a term for anterior absence, they call it. That means absence before our birth, before we were there, that is called Praga Abhava. See a pot, before it's created, it was not there. So there was the absence of the pot before the creation of the pot. So our absence was there, my absence was there before my birth, it's called Praga Bhava. And after my death, there will be my absence, I will not be there in this world. They have a term for that, it's called Dhvamsa Abhava. The Abhava means absence, Dhvamsa means destruction. The absence after destruction, you destroy the pot, the pot is not there anymore. So there's an absence before birth, and there's an absence after birth, after death. There's an absence after death. Now they say, the way they put it is, Shri Krishna is saying that the Atman is devoid of both types of absence. Praga Abhava, Dhvamsa Abhava, Rahita Atma. Atma is devoid of the absence prior to birth, devoid of absence after the death of the body. The birth and death of the body are not related to the Atman's presence or absence. Atman is ever present. The body was absent before its birth, the body is absent after its death, but not the Atman, not you. So this is the teaching about the eternality of the Atman. Shri Krishna emphasizes it again and again and again. He says, then what is birth and death? He minimizes its impact. He says, yes, it is an event which you experience and which we experience, but because we experience it, we must be there to experience it. We are not created by that experience. We are not destroyed by that experience, neither created by the experience of birth, nor destroyed by the experience of death. And he uses a very beautiful example, that of Kaumaram Youvanam Jara, childhood, youth, and old age. Just as the body goes through transitions, it changes tremendously. And I experience the changes of what? Of the body. Where is childhood? It's in the body. It's the body which is a little boy or a girl, or a teenager. It changes so much. And then it changes into youth. You come into youth and full bloom of youth and health and the peak of our powers. That is change of the body. And you experience it. And the body then matures and begins to decline. And we experience it. And you say, oh boy, do we experience it. Aches here, aches there. There's a story, old Indian story, where they say Yamadut, the messengers of death, have arrived to take a person who's dying. Time to go. Your time is up. And this person says, you never gave me any warning. I've got so much to do. I mean, it's a, he said, we did give you a warning. Where? Didn't you see the hair thinning out and growing gray? Didn't you see the teeth falling out? Didn't you see the eyesight dimming? These are all messages from Yamaraja, from the king of death, that your time is up. First warning, second warning, third warning. Get your act together. You have time to go. These transitions of the body, we experience them. And we don't give much importance to that. We go through that. And ups and downs, we struggle with that. But notice, there are huge differences in the body. And yet, you are the same person. You say, I was in that child's body. I was the one who experienced the teenager's body. I was the one who experienced the young person's body. Now I experience myself in an old person's body, and so on. In the same way, just as you experience them and you take it as normal, nothing extraordinary, Krishna says, the wise one is not disturbed by the birth or the death of the body. By the death, especially, he says, dehantara prapti, by the death of the body, is not experienced, is not disturbed by that. In the main monastery in Belur Math, when a senior monk passes away and the body, we have the permission from the municipality to cremate the body ourselves. So we do that. And it's a very interesting event, and that it's usually late in the night after the main monastery is closed and people have gone. And we sit throughout the night, the cremation pyre, and the body is burning. And there are songs, devotional songs, and people are meditating. It's not a sad occasion. I was taught when I was a young novice that, why are you sad when you see a beloved elder Swami passing away? Think about it. This person led a holy life all lifelong, and this is a culmination of it. It's glorious. It's good. So one of the songs they sing is, maron ki bhai dakhao more. O death, what fear does thou hold for me? What fear do you show me? I have no fear of you. Exactly the verse from the Gita. I was a child. I'm a young person now. In two days, I shall be an old person. And after that, the body shall go. And one day, there will be a new birth and a new body. Death is a transition. Death is not an end or a full stop, comma at best, or a hyphen. The Bengali words are, shishu chhilaam juba hoechi, doodin pare vriddho hobo, deher nashe dehantar. That means, at the end, at the destruction of the body, a new body is attained. What fear does death hold for me? It's a transition. That's what Krishna says. Sri Krishna. In Vedantic terms, what happens exactly is this. Vedanta, if you analyze ourselves, we have a physical body here, what is called the gross body, sthula sharira. And in that, we have a subtle body, sukshma sharira. You'd say, what proof? Nobody asks for what is the proof of a physical body, because everybody sees it. Everybody feels it. It's a public fact. But what is the proof of a subtle body? Exactly like that. You experience it. Right now, you're experiencing it. Thoughts, feelings, ideas, memories, desires. So all of these are parts of what is called the subtle body. And there's something more beyond that, called the causal body. We will not go into that. In Sanskrit, sthula sharira, gross body, sukshma sharira, subtle body, karana sharira, causal body. They are all bodies. That's not you. Beyond that, or underneath that, lies the atman. And this is a very analytic way of looking. Analytic means dividing it analytically to understand it. What are we trying to understand? What happens at death? At death, it is the physical body, the gross body, which falls apart, which dies. Literally, we see it. You burn it or bury it or whatever. But Vedanta holds, in fact, I will say, any religious philosophy holds, any religion in the world will say that the subtle body is the one which continues. And science cannot deny it on two counts. Why? First of all, where is the proof that the subtle body is gone? Right now, when I talk to you and you listen to me and you talk with me, I am actually interacting not just with the physical body. I'm interacting with the person in that body. That's the feeling we get. We are not just interacting with bodies. We are interacting with a person embodied. Now, when the body dies, how do you know that the person is dead? Where is the proof? There's no response, obviously, because the body is dead. If the counter is shut, then how can you talk with the official who is behind the counter? You can't see that person. That person can't talk with you. The counter is shut. The windows have been pulled down. The body is dead. It would not be possible. Even if that person was still there, it would not be possible for that person to communicate with you. Where is the proof that that person is gone? There's no clear indication that the person is gone. The second reason why science cannot object to this is science has not yet given us the link between the subtle body and the physical body. The reason why doctors or why scientists would say that there is nothing left over after death is because there is a belief, I will say. There is a belief, a dogma, a scientific dogma, that somehow this mind, what we call the mind and personality, they're somehow generated by the physical body. So the physical body, the brain and the nervous system, fall apart. There is no more person. So that's called materialist reductionism. And that doesn't work. Nobody has yet shown the causal link. The two are related. The subtle body and the physical body are related. So does Vedanta also say that. You don't need science to know that. Your thoughts and the body are related. If you're feeling the body is sick, you feel unwell. If you take a cup of coffee in the body, your mind also feels alert. So they are related. But that one produces the other, there is no causal link. This is at the risk of repeating myself ad nauseum, it's a hard problem of consciousness. So the mind is not produced by the body. The subtle body is not produced by the gross body. After death, the physical body falls apart. The sukshma sharira, the subtle body, and the causal body, they are the ones who, what we call, transmigrate. That means go from one body to another. That, by the way, is not good news. According to Hinduism, Buddhism, Jainism, Sikhism, all the Indian religions, that's actually the bad news. Because you tend to repeat this cycle again and again and again. That's the whole problem, that we are trapped in a limited existence, continuously subject to suffering. The good news is that we don't end with the physical body. But the bad news is we repeat the whole cycle over again. That's the belief system. So this is the idea. In fact, sometimes people ask me, just yesterday, I think, in the University of Michigan, we had a symposium yesterday. And after the talk, a young man asked me, Swami, you said that the atman is pure consciousness without any attributes, without any characteristics. I am pure consciousness without any characteristics. And the body has characteristics. Body has qualities and differences. At death, the body dies. Atman still exists. And we are reborn. But then you also say that we inherit characteristics from the past birth. A very good person tends to be a good person. So the qualities from past lives are transmitted across. Now, do you see the problem there? If the body, which has different characteristics, is dead, and the atman has no characteristics, so the characteristics of the past birth, how are they transmitted in the new birth? What comes to the new birth? It's the subtle body. The characteristics, the qualities, which differentiate one person from another, they are in the subtle body, in the mind. And if you actually check, that's so. We experience those things in the mind, tendencies, dispositions in the mind. Those are transmitted from birth to birth. Now, going forward. So this is the first thing which Sri Krishna points out, the most important thing. You are the real you. The atman is not subject to death. He puts it in another way, a little later on. It is not subject to destruction. Remember, the context is the battlefield, death and destruction. So the atman is not subject to destruction. Avinashi, indestructible. He says that the sword cannot cut, fire cannot burn, the air cannot dry up or desiccate, water cannot drown, and so on. That means the five elements. Sword is made of earth, the weapons cannot cut it. So the atman cannot be destroyed by material nature. It is indestructible. What happens at death? Sri Krishna gives another beautiful example, which has become very famous. Just, ŌVasamsi Jeernani Yatha VihayaÓ as we give up an old suit of clothes, we throw it away, and then we put on a new suit of clothes. Just like that, a worn out body is discarded, and a new body. By body, now you must be more careful. What body do we mean? Not all bodies are discarded, only the most outward, the physical body, the gross body, sthula sharira, gross body, physical body, that dies. It's discarded. When it wears out, when it no longer serves my purpose, I move on. That is discarded. But the other body is still remaining. The subtle body still remains. The causal body, sukshma sharira, karana sharira still remains. The atman is still limited by these bodies, and as we go on to other bodies. Now, moving on to a deeper point, which Sri Krishna next raises. This example I've given earlier, it's worth repeating here. This question of an intrinsic property and an accidental property. An intrinsic property is something that belongs to the entity. Like fire has the power of burning. The classic example is fire and the power of burning. Milk is white. So those qualities, they go with that entity. So the power of burning goes with fire. And an accidental property is something that is gained and lost. So they give the example of a pot. A pot which is painted white. It can be repainted red or green. So the color of the pot is not central. It is not intrinsic to the pot. It can change. The pot remaining the same, and different colors can come and go. So incidental properties, or accidental properties, and intrinsic properties. Intrinsic properties last as long as the entity is there. Accidental properties are gained and lost. Now, the example which I have given is heat. So a potato is being boiled. The potato is hot. Hot potato. But the heat does not belong to the potato. It is borrowed from the boiling water. And the water itself is not hot by nature. It borrows its heat from the hot pan underneath. And the pan is also not hot by nature. Intrinsically so. It is borrowing heat from the fire under it. And the fire is intrinsically hot. Yes, it is. It is intrinsically hot. It is hot in itself. As long as the fire lasts, it's hot. But the pan, which is hot, was cold earlier, and eventually when the fire goes out, will be cold. The water in the pan was cold earlier, and once the heat loses its heat, it will become cold again. The potato too, also will become cold at one time. But not the fire. Note then, the heat which was borrowed is lost. It's gained and lost. But the heat which is intrinsic is neither gained nor lost. It's not that the fire was cold at one time, then became hot. And then it'll become cold again. Never, that's ridiculous. As long as the fire is burning, it's hot. What do I intend to prove by this? Intrinsic properties are not lost, are not gained or lost. They're always there. And extrinsic properties, or accidental properties, are gained and lost. If a property is gained or lost, then we know that it is accidental or incidental. If a property is not lost, then we know that it is permanent, intrinsic. It belongs to that entity intrinsically. Now, let me ask you this question. If you treat existence like that, philosophically speaking, I don't know how many of us here are trained philosophically, immediately there would be an objection. Because existence is not a property. But anyhow, supposing you were to treat, look at the question of existence. If an entity has existence as an accidental characteristic, what will happen to that entity? It will be destroyed. It will be born and destroyed. Gain, it will gain existence and lose existence. Gaining existence is a fancy way of saying it is born or produced or created. Losing existence is another way of saying that it will be destroyed or it will die. And if anything is there which does not, which has existence as its intrinsic nature, what will happen to it? It will be permanent. There will never be a time when it gains existence. It always is. There will never be a time when it loses existence. It always is. It will be permanent or eternal. Now notice that what Krishna just said, the soul or atman is eternal. He just said it's immortal. It is not born, it does not die. If it is not born and if it does not die, if it is eternal, then it has existence as an intrinsic characteristic. This having existence as an intrinsic characteristic is called sat, pure being. This is one more clue about the nature of the atman. One is that it is eternal. Second one, if you ask what is it actually? If it is not the body, if it is not the mind, then what is it? What's the nature? What's the material? What will you say? It is pure being or sat, existence itself. Atman is existence itself. Now this leads to a very interesting conclusion. If the soul or the atman is existence, if your nature is existence itself, if it is sat, then something other than you, follow this carefully, this is very subtle, sounds very metaphysical, very simple also, but very profound. Something other than you, something which is different from you, which is not the atman, different from the self, not self, different from atman in Sanskrit, anatma, not atma. Atma is existence itself, pure being. Then anatma, not self, will be not being, not existence. Let me repeat again. If you are existence, and then something apart from you will be? Non-existence, correct. It will, you are existence itself. How did we come to that? Because you never go out of existence. You never come into existence, never go out of existence. That's what Sri Krishna is saying. If that is true, in that case, you are existence itself. Something other than you, something other than the self will be of the nature of non-existence. And this is what Krishna says in the 16th verse, maybe one of the most profound verses of the entire Bhagavad Gita. He says, na asato vidyate bhavo, naabhavo vidyate satah. That which is the atman, it is pure being, it never goes out of existence, it's always there. And that which is not the atman, which is not you, it's not being itself, it never exists also. Never comes into existence. You, the atman, you never go out of existence. And that which is not you, something other than the real you, never comes into existence. Now that's an incredible statement. You know what it means? Atma satyam jagat mithya. You, the self, the pure being, you are the reality, you're real nature, not the person. And everything apart from you, whatever you think is not me, is actually an appearance, it is not real. If it does not come into existence, and yet we experience it, how is it possible? Something does not come into existence and yet we experience it. We are experiencing it as another, it borrows existence from you. Just like the potato or the boiling water or the pan has borrowed heat from the fire underneath, similarly, this world of names and forms, it borrows existence from the atman or brahman, from pure being, and thus appears to have an existence. It appears to have an existence. This appearing to have an existence apart from you, we don't feel that these things have, these things are borrowing existence from us. We don't feel that. We feel I exist, this body, and the chair I'm sitting on, that also exists, and we exist separately. This is illusion. This is not real. What is real is I am awareness, I am pure being. And whatever I experience in awareness, whatever I see to be an object of awareness, is nothing really apart from me, the pure being. It appears in me, I experience it as if it's another, but it's nothing other than me. It's I alone with a different name and form appearing in that form, and I experience it as an other, as not-self. But the not-self has no existence apart from the self. Sri Krishna says, naasato vidyate bhava. The not-self appearances have no intrinsic existence of themselves. And you, the self, you have intrinsic existence. And these two, drstah, antah, those who realize these two very clearly, the nature of the self, I am Brahman, the reality. And the nature of the not-self, this is an appearance. It's nothing apart from my own internal nature, my real nature. They have realized the truth, tattva darshi. They have realized the truth. Now we have come to two important conclusions. The first one we started off with, atma nitya, eternal, avinasi, indestructible. You are eternal and indestructible. Anatma, the not-self, non-eternal, destructible, subject to birth and death. Second, not only are you eternal and indestructible, you are the only reality that there is, atma satyam. And not-self, what we see as other, mithya, an appearance. An appearance of what? The snake is an appearance of what? The rope. There must be something for it to appear. It can't be nothing. It is an appearance of nothing other than that atman, that purusham mahaantam, which Swami Vivekananda speaks of, that infinite being, it appears as the not-self and experiences itself in that way. This is the second great thing. Atma satya, jagat mithya. Or in Vedantic terms, brahma satyam jagat mithya. Jagat mithya means nothing other than, you can equally say everything in the jagat is brahman. Jagat mithya and everything is brahman is exactly the same thing. Swami Girijananda Ji used to say, the entire world, including this body and mind, are presented to me, to me means the awareness, at the same time. So either I am all of it or none of it. Both of these will release you, will give you moksha, freedom, right now. Both of these attitudes. I am none of it. They are movies in my awareness, in I, the awareness. Or I am all of it. What is bondage, what is samsara, is I am only this one. And you and everything else are separate from me. I am a tiny creature in a vast and indifferent world, different from me. I play my part and I'm gone. Though I may rage against the dying of the light, the light is going to die. It's only because I'm looking at the surface of the light. In the heart of reality, I am the source of the light. I am the light. I can never die. This is the second great conclusion. Atma satyam, jagat mithya. Moving on, further. Krishna says in the next verse, 17th verse, avinashi tu tat viddhi yena sarva-midam tatam. A very beautiful conclusion. This indestructible, absolute reality, sat, the atman, is all pervasive. It follows immediately. Then what are all these things? They are none other than you. Atman is all pervading. Our intuitive feeling about ourselves is I am here. I'm not all pervading, I'm not there. I'm not anywhere else. How can I be all pervading? I'm just here. Sri Krishna says the atman is all pervading. Everything that you experience and do not experience, everything is pervaded by you. It sounds counterintuitive completely, but a simple example will show what is meant. Imagine your dreams. Now, don't go into a dream state. Imagine some vivid dream that you had. When you look back upon the dream from the waking state, what do you realize? That in the dream, that entire place, the roads and the trees and the sky and the lakes and rivers, I was all of that. Do you see what I mean by that? I was all of that means all of those things, they were all imagined in my mind. All of those things were the dreamer's mind. All the people, not just I, I was there in my own dream, but other than me, there were so many other people and plants and animals. All of those were nothing other than me. It was the dreamer's mind alone which became all of that. Can I say then, all the people, all the events, the time, the very time and space of the dream world were pervaded by me, the dreamer? Can I say that? Can we all say that? What is true now, take one step into Advaita, into Vedanta. What is true of the dream world and the dreamer's mind? One is the dream world and the dreamer's mind. And remember, we have agreed that the dreamer's mind pervades the dream world. The same thing is true of consciousness and its objects. All that we have in life is consciousness and its objects. True or not? Whatever you have in life. There's nothing other than that. That's your life, consciousness and its objects. What is true of the dreamer's mind and the world of the dreams is exactly true of consciousness and the objects of consciousness. Avinashi tu tat viddhi yena sarva-midam tatam. Know that to be indestructible by which everything here is pervaded. Here means which is an object to your senses. What you see, hear, smell, taste, touch. Not only to senses, object to the mind. What you remember, imagine, think, desire, love, hate. All of that is pervaded by you, the awareness. It is given existence, temporary existence by you, the awareness, by you, the pure being, by you, which is chit and sat, awareness and consciousness. It's very simple, really. First, when we do not think about it, we just behave like bodies and minds. I have thoughts and feelings and desires and here I am, this body. As we go into Vedanta, our first awakening is, oh, I am awareness. I am consciousness. In which I experience body and mind and the world. Are you with me so far? Can we think about ourselves as I am awareness and in which I'm experiencing body, mind and world? So that's the first thing. Then we notice that the body changes, the world changes, the body changes, our perceptions change, thoughts change, ideas change, feelings change, knowledge changes, but the awareness in itself does not change. Awareness is like a steady light. Unchanging awareness. Are you with me there also? Do you at least get the trend of thought? Awareness does not change. All changes are noted in awareness, recognized in awareness, lit up by awareness. Now this unchanging awareness is what Krishna calls the indestructible Atman. If it is unchanging awareness, if it is indestructible, not subject to birth and death, then existence is an intrinsic characteristic of this awareness. If existence is, you see the logic, if existence is an intrinsic characteristic of this awareness, then anything apart from this awareness is an appearance, does not have intrinsic existence. It borrows existence from awareness, just as everything in your dream borrows existence from you, the dreamer. You are sat chit, pure being, pure awareness, pervading everything that you experience. So the third thing that we learn about the Atman, sarva vyapi, sarva vyapi, all pervading. All pervading. I have told you earlier about this in the Himalayas, when this is being taught, a monk at the back, he suddenly raises his hand and he asks the teacher, who's another senior monk, a teacher, he said, just a minute, how can you say that I am all pervading? I am here and not there, and how can I be all pervading? I'm just here, I'm not even there, and how can I be all pervading? In Hindi. Mein yaha hoon, udhar nahi hoon. To sarva vyapi kaise hoon? Yaha hoon, waha nahi hoon. I'm here, I'm not there. How can I be all pervading? And you know what the answer was? The teacher said, aha, but here and there are they not both in your awareness? The moment I say I am here and not there, I'm speaking as what? The body. Can you not say exactly the same thing in your dreams? Somebody comes in your dreams and says, you are everything here. I say, what silliness? I am here, I'm not even there. When you wake up, who would be right? That person would be right, because everything in your dream was in your mind. Similarly, everything that we experience is in fact literally in our awareness. You as awareness pervade everything. That's the third point I wanted to make. Not me, Krishna wants to make in the Bhagavad Gita that awareness, atman, is all pervading. The question is, all pervading, indestructible, nothing other than that exists, but now one may ask a practical question. Where is it? We don't experience it. I experience people and events and space and time and my own body, my own thoughts and perceptions. Where is this precious atman you're talking about? So Krishna says, he anticipates the question and he uses the word aprameyaha. Aprameyaha means, it's a very technical word. It's not an object to the instruments of knowledge. What does it mean? Instruments of knowledge, how do you know anything? We deploy instruments of knowledge. Like scientists using telescopes and microscopes, we deploy instruments of knowledge. I, the awareness, to know the objects of awareness, I deploy sight. I can see forms. I deploy ears, I can hear sounds. Touch, taste, smell. All of these instruments are deployed, but the atman has neither form nor sound, nor taste, nor touch, nor smell. So the five sense organs cannot objectify the atman. I use my mind, if it's something I cannot see or hear or smell or taste, I use my mind to conceive of it, think of it, ideate, to intellectualize it. But the atman is not an object of the mind either. Beyond mind, beyond senses, this is called aprameyaha. You might say, wait a minute, if it's beyond mind and senses, what right do you have to say such a thing exists? To say something exists, it must become an object of knowledge. True or not? Otherwise you can imagine anything. Suppose I say Harry Potter exists. You will say, how do you know? I say I read about it in the book. It's in the fiction section in Barnes and Noble. But do you know what that means? It means it's fiction, it does not exist in this world. So there must be some object, some instrument of knowledge which objectifies the entity to make us claim that it exists in this world. And if the atman is not an object to any instrument of knowledge, what right do you have to say that it exists? That question might come. And so the answer, Krishna does not make it explicit there, it is consciousness, swaprakasha. Swaprakasha means self-luminous. Here is a clue to the nature of the atman. It is not an object of the senses or of any instrument of knowledge. Rather it is the subject. It's not, it is that which lights up all the instruments and enables you to use those instruments. It's like looking for, if somebody sees a picture, the very picture, the photograph means there's a photographer. Where? I can't see the photographer in the picture. Nowadays you can with a selfie. But in those days you could not. A portrait with a lot of people and there's one person missing there, photographer. But how do you know that there was a photographer? Because there is the photograph. Exactly in the same way, how do you know that there is consciousness? I can't see consciousness as an object. I can't see it, hear it, smell it, taste it, touch it. Well, to hear, smell, taste, touch anything, to think, to remember, to love, to hate, even to doubt that there is consciousness, you have to be conscious. Shankaracharya says, it is the very self of the one who doubts that there is such a self. Without that you could not doubt. Who is the one doubting? What is the one doubting? If you say everything is a dream, it means there's one thing which is not a dream. What is that? The dreamer, exactly. There must be something beyond the dream to dream the dream. To experience all of this, there must be an experiencer, which is not part of these things. So, aprameya points to the fact that why you cannot experience it through the sense organs or the mind, but it also points to where you can find the self. Beyond the sense organs, beyond the mind, you are that consciousness which shining through the mind and the sense organs, you experience the world and this body and mind. Aprameyah, it's not an object of the pramanas, instruments of knowledge. Goes further, one more point and then I'm done. It is akarta abhokta, akarta abhokta, very interesting point. Sri Krishna says that, nahanti nahanyate, it neither kills, the atman neither kills nor is slain. Remember the context was the Kurukshetra battle, the battlefield of Kurukshetra. So, that's why the language is slayer or slain, but the philosophical import of this, the philosophical meaning of this is, it's neither a doer nor an experiencer. Consciousness by itself is not a doer, it's not an agent of action. Consciousness associated with the body and mind, associated with this body and mind becomes the doer of actions. Consciousness associated with the body and mind, the sense organs, becomes the experiencer of a world. But without a body and mind in itself, it's neither a doer nor an experiencer. In Sanskrit, akarta abhokta. But the way Krishna puts it in the Gita is, it neither slays nor is slain. And Emerson, you know, his famous poem, Brahma. Ralph Waldo Emerson, he wrote a poem called Brahma. If you Google it, you'll find it. It's a very well-known poem. And it's a direct translation of, I think, the 19th verse of the Bhagavad Gita. If the red slayer thinks he slays, or the slain think he is slain, neither know the subtle ways. I, I come, I keep, I pass, and I return. I keep means I am here. I pass means I die. And return means I again come back. That is the subtle body, of course. But beyond that is the Atman. He says if this red slayer, why red slayer? Because the warrior, he's referring to Gita, Bhagavad Gita. So, nowadays there's these, what do they call? Cliff notes or something, study notes. So there's study note to Brahma, which says, here Emerson is referring to the Vedantic text, Gita. So, he had a wonderful collection of Hindu philosophical texts. 45 books, in those days. Red slayer thinks he slays, or if the slain think he is slain, neither know the subtle ways. So, you're not the doer of deeds, nor the experiencer of the results, as Atman. But as limited by body and mind, with a subtle body, you become the doer of deeds and the experiencer of Atman, of the results. The deeper meaning is this. A fundamental idea in all Indic religious systems is karma, action and its results. Cause and effect, consequences, causes have consequences, actions have consequences, cause and effect. Do good, the result will be pleasant. Do, you be consciously naughty, the result will be unpleasant. So, this is basically oversimplified version of the law of karma. Now, as Swami Vivekananda put it, good, good, bad, bad, and none escape the law. But whosoever wears a form, remember here, consciousness limited by body, mind. Whosoever wears a form, wears the chain too. What is the chain? Law of karma. Whatever we have set in motion in birth's past, will have their consequences in this birth. Whatever we set in motion now, will have consequences further on. What does Vedanta offer in this chain of karma? Because Vivekananda says, none escape the law. He says, but far beyond name and form, is Atman ever free. Know thou art that, sanyasi bold. Say, Om Tat Sat Om. This Atman, this pure consciousness, which Krishna is talking about, is ever free and that is what you are. When we realize ourselves as that, we realize ourselves as the non-doer. One verse in the Bhagavad Gita, which Krishna repeats three times. The same idea, that we are actually the non-doer. We are the non-doing pure consciousness. Not that he's asking you not to do anything. Imagine, the Gita is very interesting. He says you are the non-acting pure consciousness. And then he urges Arjuna into action. Knowing yourself to be that non-doing pure consciousness, with body and mind, engage in action. With a purified mind and body, engage in action, which is for the welfare of the world, which is the worship of the Lord. So, akarta abhokta, non-doing. When you realize yourself as that, far beyond name and form, is Atman ever free. Three times, Krishna repeats this. 13th chapter, he says, prakrityeva karmani kriyamanani sarvasah yapasyati tathaatmanam akartaram sapashyati. Prakriti alone does everything. Prakriti means nature. Alone does everything in this world, including this body, including this mind, including all the actions done by body and mind. One who realizes that, then realizes that I am the non-doing pure consciousness. Akarta. Akarta means not agent. You realize that is the true nature of ourselves. But don't get confused. He's not telling you to sit quietly. Oh, I have realized that I am the non-doer, so I will not do anything. With body and mind, Krishna points out again and again, with body and mind, you cannot but act. Action will continue. You cannot stop acting with the body and mind. Body and mind will keep doing. You are the witness consciousness. Keep acting with body and mind. Do what is to be done. Then you are free of the bondage of karma. A devotee, one who is on the path of bhakti, instead of taking this path, this is the path of sankhya or jnana, devotee on the path of bhakti will say, I devote all my actions to the Lord. By the grace of the Lord alone, I have this body. By the grace of the Lord alone, I have these senses and the mind. And so all that is the Lord's, I offer back unto the Lord. It's the same idea. Basically the same idea. But it's with devotion and love and it's much more appealing sometimes to the heart of the devotee. All right, we could go on and on. The Gita is 18 chapters long, but this is the core idea. The one takeaway from this is this atman I am. What atman? Summing up, immortal, nitya avinasi. I do not, I'm not born with the birth of the body. I do not die with the death of the body. Who is born with the birth of the body? The subtle body gets embodied in a physical body. Who experiences death? The subtle body experiences death with the death of the physical body. But I am not born with the body. I do not die with the body. I am indestructible. That's number one. Number two, that I am the reality of this universe. Everything apart from me, the atman, is an appearance. Atma satyam, jagat mithya. Third, this atman, the real nature, the paramarthic, the absolute nature of the atman, this pervades this entire world of appearance. Just as the dreamer's mind pervades the entirety of your dream world, you, the consciousness, you, pure being, you pervade this world. Pervade means this world borrows its existence from you. Remember, intrinsic property and extrinsic or accidental property. Third, so that's the third thing. You pervade everything. Sounds philosophical. There are tremendous practical implications. Everyone you meet is fundamentally you yourself. The good and the bad and the ugly. Every experience in your life, good and bad, whatever it is, is you only. There's nothing apart from you. Whom will you criticize? Whom will you hate? When the atman is but one, you are but one. Then whom to hate, whom to criticize, whom to praise? All pervading, this is the meaning. The fourth one is a very philosophical but very important meaning. It is not an object of the senses. Apramayah, not an object of the mind. It's not a thing. The atman is not a thing out there. It's, follow this carefully, it's not even a thing in here. In here and out there, both of them are appearing in you, the atman. Atman is not an object. Don't try to objectify it. You are it. And by your light, everything is lit up. You shining, all else shines after you. Tamevabhantam anubhati sarvam. That shining, everything else shines. Tasyabhasa sarvamidam vibhati. By its light, by your light, everything here is lit up. It's not poetry. It's a literal reporting of the truth. The world outside, good and bad, the mind inside, calm and restless, they're all lit up by you, the unchanging consciousness. What else are you other than that? And finally, you are akarta abhokta, the real you. You are not the doer, nor the experiencer of the results of actions. You are forever free of karma. Karma is regarded as the bondage, which traps us in samsara. But you are forever, you already are free of karma. You have to recognize that. You have to own it up. You have to say, I am that one which is forever free of karma. Whatever happens on the screen, whatever the plot of the movie, the screen is free of the plot. Tragedy or comedy, the screen is free of it. Not only free of it, it's the screen which enables the tragedy or the comedy to happen. Right? You are the atman, free of samsara, but because of you, samsara is happening. Look at the wonderful nature of this thing. All right, so these are the five things about the atman which we should think about. Take it seriously. This is the essence of the teaching of Vedanta, and I would say in a general sense of all spirituality in the world. It's the saving knowledge. I pray to Sri Ramakrishna, the Holy Mother, Swami Vivekananda, may this atma jnana, this knowledge of the atman, the realization of the atman, it's realization, not just knowing about it, may it dawn upon us in this very life. Swami Vivekananda, he said the essence of religion, each soul is potentially divine. Each soul is potentially divine means we are that atman already, but why potential? He says because we have not manifested it or realized it yet. The goal of life is to realize this divinity within and to manifest it in our daily lives. Manifest it means live it, not just listen to a nice lecture, not just feel, oh, I'm cool, I'm the atman. And then lose your temper at every little irritation, be upset because things do not go the way this particular little creature wants it to go. No, manifesting it means literally becoming a saint in your day to day life. Don't try to be a saint. Try to know yourself as the atman, you will see lo and behold, you have become a saint. You might not be a card carrying saint, but saying so and so, but that's what your life, you'll be transformed. Our lives will be transformed and very quickly. If you struggle to gather and cultivate the qualities of a saint, it's a lifelong struggle and pretty difficult and dull and dreary. If you own up to this insight that I am this atman, you will see immediately a change in the thought, in the emotions, the way you think and feel and the way you deal with people and events in your life. A lot of peace will come. A great release will come upon you. The more we think about this, great lightness comes upon us. Fear of death diminishes. I won't say disappears, it diminishes. It becomes diminished. The horrid reality of a world oppressing us, it becomes shimmery because it's not real apart from you. You feel free of the bondage of karma. You realize yourself as light, as pure awareness right now. I pray to them that this may become a reality in our lives. Om shanti shanti shanti Hari om tat sat Sri Ramakrishnaarpanamastu\n"
     ]
    }
   ],
   "source": [
    "print(transcript)"
   ]
  },
  {
   "cell_type": "markdown",
   "id": "6bda1ce8",
   "metadata": {},
   "source": [
    "## Using Text splitter to create chunks "
   ]
  },
  {
   "cell_type": "code",
   "execution_count": 38,
   "id": "29018239",
   "metadata": {},
   "outputs": [
    {
     "name": "stdout",
     "output_type": "stream",
     "text": [
      "69\n",
      "page_content='You know, whenever I read the Bhagavad Gita, especially commentaries upon it, explanations, there are different approaches to it. Some say the central teaching of the Gita is bhakti, devotion. Some say the central teaching of the Gita is action. Sri Krishna relentlessly urges Arjuna into action. Some say it is duty. Another way of looking at the Bhagavad Gita is that it is a manual on spiritual life with teachings about God and avatar and meditation and so on. All of which, no doubt, are true. But if you actually look at the Bhagavad Gita itself, when Sri Krishna starts teaching Arjuna, the first thing he teaches Arjuna is probably the central message of Vedanta. I'm saying it very carefully, central message of Vedanta. I did not say central message of Gita because the central message of Gita and the central message of Vedanta are one and the same. The Gita is part of Vedanta. Gita in itself may have a unique approach to it. There may be something special in the Gita over and above' metadata={'video_id': 'P14cRV-m6ZY'}\n",
      "page_content='Gita and the central message of Vedanta are one and the same. The Gita is part of Vedanta. Gita in itself may have a unique approach to it. There may be something special in the Gita over and above the general message of Vedanta. But first of all, we must appreciate the central teaching, the general message of Vedanta. And that is, without any doubt, the teaching on the Atman. That is our subject this morning. You might think, Atman, who or what is that? It's you. It's our real nature, what we are. If you notice what Sri Krishna starts off with in the second chapter, after Arjuna has finished his lamentations and his questions and his doubts, Sri Krishna starts off by teaching Arjuna the doctrine of the Atman, what we really are. Not what we think of ourselves, but what we really are. And this is the central teaching of Vedanta, that if we would really know ourselves as we truly are, Atman means the self, the essence, the self, what we truly are. If we know that, who am I or what am' metadata={'video_id': 'P14cRV-m6ZY'}\n",
      "page_content='this is the central teaching of Vedanta, that if we would really know ourselves as we truly are, Atman means the self, the essence, the self, what we truly are. If we know that, who am I or what am I, then all our problems would actually be solved. All the rest, God, the teachings about God, the teachings about the creation of the universe, the teachings about incarnation, Avatar, the teachings about Bhakti and Jnana, love and devotion and knowledge, the teachings about meditation, teachings about action, Karma, all of them come afterwards. Chronologically in the Gita also, you see that they come afterwards. The first teaching, the very first teaching from approximately the 11th verse where Sri Krishna starts speaking, starts teaching Arjuna, to about the 25th verse of the second chapter is a concentrated teaching on the Vedantic doctrine of the Atman, the answer to the question, who am I? Or more precisely, what am I? Because who am I, it can lead to a different kind of thinking,' metadata={'video_id': 'P14cRV-m6ZY'}\n",
      "page_content='is a concentrated teaching on the Vedantic doctrine of the Atman, the answer to the question, who am I? Or more precisely, what am I? Because who am I, it can lead to a different kind of thinking, especially in our world today in this country, who am I would mean that am I born to be a musician or am I an artist or am I a good person or a bad person? These are questions related to the personality, the mind, our dispositions. But beyond that there is an essential nature to ourselves, a spiritual nature, deeper than that, deeper than the person, that's what the Atman is. The teaching about the Atman is the real nature beyond the differing personalities which we are. What does Sri Krishna say? The first thing which he says and he repeats it again and again is that the Atman is beyond death. A simple statement but a very powerful statement. The essential teaching of any kind, not only Vedanta, any kind of spirituality, in any religion, in all the religions is this conquest of death,' metadata={'video_id': 'P14cRV-m6ZY'}\n"
     ]
    }
   ],
   "source": [
    "# chunk_size, chunk_overlap, seperator, \n",
    "text_splitter = RecursiveCharacterTextSplitter(chunk_size=1000,chunk_overlap=200)\n",
    "\n",
    "chunks = text_splitter.create_documents([transcript],metadatas=[{\"video_id\":video_id}])\n",
    "\n",
    "print(len(chunks))\n",
    "\n",
    "# to see how a chunk looks like\n",
    "for chunk in chunks[:4] :\n",
    "   print(chunk)"
   ]
  },
  {
   "cell_type": "code",
   "execution_count": 39,
   "id": "435c24a4",
   "metadata": {},
   "outputs": [
    {
     "data": {
      "text/plain": [
       "\"level sand between land, between sea and land, what shall I build against the falling of the night? What shall I make against the falling? Falling of the night is death, it's coming, so what shall I build? And it's a very evocative thing, whatever you're building on sand also is built in sand, it will go away one day. So, Tamasah parastath, he says against the falling of the light, there is something, against the falling of the night, he says there is something beyond darkness. This thing which he has realized, he says, is beyond darkness, is beyond the falling of the night. There's this famous poem, do not go gentle into the, Dylan Thomas, into the night, rage, rage, rage against the dying of the light, I've forgotten the exact poem. It's what, understanding what he's trying to say and what is the response of Vedanta to that, we'll see. In fact, Krishna's teaching about the Atman here is a direct response to that. Tamasah parastath, beyond darkness, there is a reality. And what\""
      ]
     },
     "execution_count": 39,
     "metadata": {},
     "output_type": "execute_result"
    }
   ],
   "source": [
    "chunks[9].page_content"
   ]
  },
  {
   "cell_type": "markdown",
   "id": "241d4eba",
   "metadata": {},
   "source": [
    "## Indexing "
   ]
  },
  {
   "cell_type": "markdown",
   "id": "b4e3caff",
   "metadata": {},
   "source": [
    "### Embedding Model"
   ]
  },
  {
   "cell_type": "code",
   "execution_count": 40,
   "id": "e4a45350",
   "metadata": {},
   "outputs": [],
   "source": [
    "# Setting up Env Variables\n",
    "import os\n",
    "import getpass\n",
    "from dotenv import load_dotenv\n",
    "\n",
    "load_dotenv()\n",
    "\n",
    "if \"GOOGLE_API_KEY\" not in os.environ:\n",
    "   # os.environ[\"GOOGLE_API_KEY\"] = os.getenv(\"GOOGLE_API_KEY\")\n",
    "   os.environ[\"GOOGLE_API_KEY\"] = getpass.getpass(\"Enter your Google API key:\")"
   ]
  },
  {
   "cell_type": "code",
   "execution_count": 41,
   "id": "a2c012d7",
   "metadata": {},
   "outputs": [
    {
     "name": "stderr",
     "output_type": "stream",
     "text": [
      "E0000 00:00:1760843445.402938 2642520 alts_credentials.cc:93] ALTS creds ignored. Not running on GCP and untrusted ALTS is not enabled.\n",
      "E0000 00:00:1760843445.403517 2642520 alts_credentials.cc:93] ALTS creds ignored. Not running on GCP and untrusted ALTS is not enabled.\n"
     ]
    }
   ],
   "source": [
    "# Using Embedding Models to create vector embeddings.\n",
    "from langchain_google_genai import GoogleGenerativeAIEmbeddings\n",
    "\n",
    "# configure embdding model\n",
    "embeddings = GoogleGenerativeAIEmbeddings(model=\"models/gemini-embedding-001\")\n",
    "\n",
    "# checking: embedd the chunks\n",
    "# vectors = embeddings.embed_documents([chunk.page_content for chunk in chunks])\n",
    "\n",
    "# vectors = await embeddings.aembed_documents(texts_to_embed)\n",
    "# async for vector in vectors:\n",
    "#    print(vector)\n",
    "\n",
    "# for vector in vectors:\n",
    "#    print(vector)\n",
    "\n",
    "# len(vectors)"
   ]
  },
  {
   "cell_type": "markdown",
   "id": "6a52b012",
   "metadata": {},
   "source": [
    "### FAISS vector store\n",
    "> local, simple storage"
   ]
  },
  {
   "cell_type": "code",
   "execution_count": 42,
   "id": "9f59e3f9",
   "metadata": {},
   "outputs": [],
   "source": [
    "# Loading documents to vector store/DB\n",
    "import faiss\n",
    "from langchain_community.docstore.in_memory import InMemoryDocstore\n",
    "from langchain_community.vectorstores import FAISS\n",
    "\n",
    "vector_store = FAISS.from_documents(chunks,embeddings)\n"
   ]
  },
  {
   "cell_type": "markdown",
   "id": "14fd8b58",
   "metadata": {},
   "source": [
    "### Pinecone vector storage\n",
    "> serverless, scalable, awesome."
   ]
  },
  {
   "cell_type": "code",
   "execution_count": 1,
   "id": "6c877e95",
   "metadata": {},
   "outputs": [],
   "source": [
    "# experimenting with pinecode\n",
    "from pinecone import Pinecone , ServerlessSpec\n",
    "import os \n",
    "import dotenv\n",
    "\n",
    "dotenv.load_dotenv()\n",
    "\n",
    "# pc_api_key = os.getenv(\"PINECONE_API_KEY\")\n",
    "# pc = Pinecone(api_key=pc_api_key)\n",
    "pc = Pinecone()"
   ]
  },
  {
   "cell_type": "code",
   "execution_count": 44,
   "id": "b5818833",
   "metadata": {},
   "outputs": [],
   "source": [
    "# creating index in pinecone\n",
    "index_name = \"video-transcript\" # 1. intialize the name of the index.\n",
    "\n",
    "if index_name not in pc.list_indexes().names(): #2. create a index with that name\n",
    "   pc.create_index(\n",
    "      name=index_name,\n",
    "      dimension=3072, # gemini-embedding-001 has 3072 dimensions by default\n",
    "      metric='cosine', # specifies the distance calculation method used to find the \"nearest\" vectors during a search [cosine, euclidean, and dotproduct]\n",
    "      spec=ServerlessSpec(cloud='aws', region='us-east-1')\n",
    "   ) \n",
    "\n",
    "\n"
   ]
  },
  {
   "cell_type": "code",
   "execution_count": null,
   "id": "f299ec11",
   "metadata": {},
   "outputs": [],
   "source": [
    "# indexing(Upserting) the vecotrs in pinecone\n",
    "index = pc.Index(index_name)\n",
    "\n",
    "vectors = []\n",
    "for i,chunk in enumerate(chunks):\n",
    "   embedding = embeddings.embed_query(chunk.page_content) # this is creating one request for each chunk. practically, not the best method, we can just directly get all the chunks retrieved in on request....\n",
    "   # vectors = embeddings.embed_documents([chunk.page_content for chunk in chunks]) like this and mapping it later, in the function.\n",
    "\n",
    "   vector = {\n",
    "      \"id\": f\"chunk_{i}_{chunk.metadata.get(\"video_id\")}\",\n",
    "      \"values\":embedding,\n",
    "      \"metadata\":{\n",
    "         \"text\": chunk.page_content, \n",
    "         \"video_id\":chunk.metadata.get(\"video_id\"),\n",
    "         \"chunk_index\":i\n",
    "      }\n",
    "   }\n",
    "   vectors.append(vector)\n",
    "\n",
    "\n",
    "upserted_data = index.upsert(vectors)\n"
   ]
  },
  {
   "cell_type": "markdown",
   "id": "7a30862f",
   "metadata": {},
   "source": [
    "## Building a Retriever\n",
    "\n",
    "there are multiple types of retrieveres , we are building one from the vector store, as we say \"all vector stores can be cast to retrievers\". we can do this by using `.as_retriever()` method which creates a  `VectorStoreRetriever` instance"
   ]
  },
  {
   "cell_type": "markdown",
   "id": "7211f4fd",
   "metadata": {},
   "source": [
    "### Building from langchain's `as_retriever` method"
   ]
  },
  {
   "cell_type": "code",
   "execution_count": 47,
   "id": "f0ec776c",
   "metadata": {},
   "outputs": [
    {
     "data": {
      "text/plain": [
       "VectorStoreRetriever(tags=['FAISS', 'GoogleGenerativeAIEmbeddings'], vectorstore=<langchain_community.vectorstores.faiss.FAISS object at 0x10efe3e00>, search_kwargs={'k': 4})"
      ]
     },
     "execution_count": 47,
     "metadata": {},
     "output_type": "execute_result"
    }
   ],
   "source": [
    "retriever = vector_store.as_retriever(\n",
    "   search_type = \"similarity\", # Other types: mmr, similarity_score_threshold, \n",
    "   search_kwargs = {\n",
    "      \"k\":4,\n",
    "      # other kwargs : \n",
    "      # \"score_threshold\":0.5\n",
    "   }\n",
    ")\n",
    "retriever"
   ]
  },
  {
   "cell_type": "code",
   "execution_count": 51,
   "id": "bc3d250a",
   "metadata": {},
   "outputs": [
    {
     "data": {
      "text/plain": [
       "[Document(id='73ee3412-e53f-432d-88bb-69c8d0717be9', metadata={'video_id': 'P14cRV-m6ZY'}, page_content=\"just said, the soul or atman is eternal. He just said it's immortal. It is not born, it does not die. If it is not born and if it does not die, if it is eternal, then it has existence as an intrinsic characteristic. This having existence as an intrinsic characteristic is called sat, pure being. This is one more clue about the nature of the atman. One is that it is eternal. Second one, if you ask what is it actually? If it is not the body, if it is not the mind, then what is it? What's the nature? What's the material? What will you say? It is pure being or sat, existence itself. Atman is existence itself. Now this leads to a very interesting conclusion. If the soul or the atman is existence, if your nature is existence itself, if it is sat, then something other than you, follow this carefully, this is very subtle, sounds very metaphysical, very simple also, but very profound. Something other than you, something which is different from you, which is not the atman, different from the\"),\n",
       " Document(id='48487c07-a9ee-4b56-af13-845b2214b5b6', metadata={'video_id': 'P14cRV-m6ZY'}, page_content=\"Gita and the central message of Vedanta are one and the same. The Gita is part of Vedanta. Gita in itself may have a unique approach to it. There may be something special in the Gita over and above the general message of Vedanta. But first of all, we must appreciate the central teaching, the general message of Vedanta. And that is, without any doubt, the teaching on the Atman. That is our subject this morning. You might think, Atman, who or what is that? It's you. It's our real nature, what we are. If you notice what Sri Krishna starts off with in the second chapter, after Arjuna has finished his lamentations and his questions and his doubts, Sri Krishna starts off by teaching Arjuna the doctrine of the Atman, what we really are. Not what we think of ourselves, but what we really are. And this is the central teaching of Vedanta, that if we would really know ourselves as we truly are, Atman means the self, the essence, the self, what we truly are. If we know that, who am I or what am\"),\n",
       " Document(id='590f2e5d-53dd-4040-b643-dfc987702352', metadata={'video_id': 'P14cRV-m6ZY'}, page_content=\"is a concentrated teaching on the Vedantic doctrine of the Atman, the answer to the question, who am I? Or more precisely, what am I? Because who am I, it can lead to a different kind of thinking, especially in our world today in this country, who am I would mean that am I born to be a musician or am I an artist or am I a good person or a bad person? These are questions related to the personality, the mind, our dispositions. But beyond that there is an essential nature to ourselves, a spiritual nature, deeper than that, deeper than the person, that's what the Atman is. The teaching about the Atman is the real nature beyond the differing personalities which we are. What does Sri Krishna say? The first thing which he says and he repeats it again and again is that the Atman is beyond death. A simple statement but a very powerful statement. The essential teaching of any kind, not only Vedanta, any kind of spirituality, in any religion, in all the religions is this conquest of death,\"),\n",
       " Document(id='6baf9ef1-b256-4068-a1b1-dc1cc8f3e4fa', metadata={'video_id': 'P14cRV-m6ZY'}, page_content='this is the central teaching of Vedanta, that if we would really know ourselves as we truly are, Atman means the self, the essence, the self, what we truly are. If we know that, who am I or what am I, then all our problems would actually be solved. All the rest, God, the teachings about God, the teachings about the creation of the universe, the teachings about incarnation, Avatar, the teachings about Bhakti and Jnana, love and devotion and knowledge, the teachings about meditation, teachings about action, Karma, all of them come afterwards. Chronologically in the Gita also, you see that they come afterwards. The first teaching, the very first teaching from approximately the 11th verse where Sri Krishna starts speaking, starts teaching Arjuna, to about the 25th verse of the second chapter is a concentrated teaching on the Vedantic doctrine of the Atman, the answer to the question, who am I? Or more precisely, what am I? Because who am I, it can lead to a different kind of thinking,')]"
      ]
     },
     "execution_count": 51,
     "metadata": {},
     "output_type": "execute_result"
    }
   ],
   "source": [
    "query = \"what is the true nature of atman?\"\n",
    "relevant_chunks= retriever.invoke(query)\n",
    "relevant_chunks"
   ]
  },
  {
   "cell_type": "markdown",
   "id": "a9411b91",
   "metadata": {},
   "source": [
    "### Retriever from pinecone.\n",
    "\n",
    "> there are quite a few ways to search in the vector store in pinecone, we are going to search using query vector."
   ]
  },
  {
   "cell_type": "code",
   "execution_count": 49,
   "id": "459ce307",
   "metadata": {},
   "outputs": [],
   "source": [
    "# Supported only for indexes with integrated embedding\n",
    "# search_with_text = index.search(\n",
    "#     namespace=\"example-namespace\", \n",
    "#     query={\n",
    "#         \"inputs\": {\"text\": \"Disease prevention\"}, \n",
    "#         \"top_k\": 4\n",
    "#     },\n",
    "#     fields=[\"category\", \"chunk_text\"],\n",
    "#     rerank={\n",
    "#         \"model\": \"bge-reranker-v2-m3\",\n",
    "#         \"top_n\": 2,\n",
    "#         \"rank_fields\": [\"chunk_text\"] # Specified field must also be included in 'fields'\n",
    "#     }\n",
    "# )\n",
    "query = \"what is the true nature of atman?\"\n",
    "query_vector = embeddings.embed_query(chunk.page_content) #first embedd the query\n",
    "\n",
    "search_with_vector= index.query(\n",
    "   vector = query_vector,\n",
    "   top_k=4,\n",
    "   include_metadata=True,\n",
    "   include_values=False\n",
    ")\n"
   ]
  },
  {
   "cell_type": "code",
   "execution_count": 50,
   "id": "56c0fb7d",
   "metadata": {},
   "outputs": [
    {
     "name": "stdout",
     "output_type": "stream",
     "text": [
      "<class 'pinecone.core.openapi.db_data.model.query_response.QueryResponse'>\n"
     ]
    },
    {
     "data": {
      "text/plain": [
       "{'id': 'chunk_68_P14cRV-m6ZY',\n",
       " 'metadata': {'chunk_index': 68.0,\n",
       "              'text': 'a change in the thought, in the emotions, the way you '\n",
       "                      'think and feel and the way you deal with people and '\n",
       "                      'events in your life. A lot of peace will come. A great '\n",
       "                      'release will come upon you. The more we think about '\n",
       "                      'this, great lightness comes upon us. Fear of death '\n",
       "                      \"diminishes. I won't say disappears, it diminishes. It \"\n",
       "                      'becomes diminished. The horrid reality of a world '\n",
       "                      \"oppressing us, it becomes shimmery because it's not \"\n",
       "                      'real apart from you. You feel free of the bondage of '\n",
       "                      'karma. You realize yourself as light, as pure awareness '\n",
       "                      'right now. I pray to them that this may become a '\n",
       "                      'reality in our lives. Om shanti shanti shanti Hari om '\n",
       "                      'tat sat Sri Ramakrishnaarpanamastu',\n",
       "              'video_id': 'P14cRV-m6ZY'},\n",
       " 'score': 0.999923706,\n",
       " 'values': []}"
      ]
     },
     "execution_count": 50,
     "metadata": {},
     "output_type": "execute_result"
    }
   ],
   "source": [
    "print(type(search_with_vector))\n",
    "search_with_vector.matches[0]\n"
   ]
  },
  {
   "cell_type": "code",
   "execution_count": null,
   "id": "a5d0abf4",
   "metadata": {},
   "outputs": [
    {
     "data": {
      "text/plain": [
       "[{'id': 'chunk_68_P14cRV-m6ZY',\n",
       "  'score': 0.999923706,\n",
       "  'text': \"a change in the thought, in the emotions, the way you think and feel and the way you deal with people and events in your life. A lot of peace will come. A great release will come upon you. The more we think about this, great lightness comes upon us. Fear of death diminishes. I won't say disappears, it diminishes. It becomes diminished. The horrid reality of a world oppressing us, it becomes shimmery because it's not real apart from you. You feel free of the bondage of karma. You realize yourself as light, as pure awareness right now. I pray to them that this may become a reality in our lives. Om shanti shanti shanti Hari om tat sat Sri Ramakrishnaarpanamastu\"},\n",
       " {'id': 'chunk_14_P14cRV-m6ZY',\n",
       "  'score': 0.86605835,\n",
       "  'text': \"if the whole world were to turn into Ramakrishna, everybody is Sri Ramakrishna, an incarnation of God. Ultimately, what good is it to you or me? Whole world, they all become spiritual giants, but we remain the same. Ultimately, say at the point of death, after knowing all these wonderful people and let it all be true, let them all have attained such spiritual heights, but you have not attained anything, I have not attained anything, then what good is it to me or you? In Bengali, he said, those who understand Bengali, you'll catch the flavor of it. He said, O Re Badla, if the whole world were to turn into Ramakrishna, what good is it to you or me? If everybody is transformed, not into a yogi, into Sri Ramakrishna, into an avatar, so what? For me, it's great for them, but what about us? We must realize this as I am that reality. This is what Sri Krishna first tells. The first thing he tells Arjuna is, there is a reality, your reality, which is beyond death. He starts off by saying that\"},\n",
       " {'id': 'chunk_67_P14cRV-m6ZY',\n",
       "  'score': 0.860290527,\n",
       "  'text': \"it means live it, not just listen to a nice lecture, not just feel, oh, I'm cool, I'm the atman. And then lose your temper at every little irritation, be upset because things do not go the way this particular little creature wants it to go. No, manifesting it means literally becoming a saint in your day to day life. Don't try to be a saint. Try to know yourself as the atman, you will see lo and behold, you have become a saint. You might not be a card carrying saint, but saying so and so, but that's what your life, you'll be transformed. Our lives will be transformed and very quickly. If you struggle to gather and cultivate the qualities of a saint, it's a lifelong struggle and pretty difficult and dull and dreary. If you own up to this insight that I am this atman, you will see immediately a change in the thought, in the emotions, the way you think and feel and the way you deal with people and events in your life. A lot of peace will come. A great release will come upon you. The more\"},\n",
       " {'id': 'chunk_66_P14cRV-m6ZY',\n",
       "  'score': 0.852737546,\n",
       "  'text': \"these are the five things about the atman which we should think about. Take it seriously. This is the essence of the teaching of Vedanta, and I would say in a general sense of all spirituality in the world. It's the saving knowledge. I pray to Sri Ramakrishna, the Holy Mother, Swami Vivekananda, may this atma jnana, this knowledge of the atman, the realization of the atman, it's realization, not just knowing about it, may it dawn upon us in this very life. Swami Vivekananda, he said the essence of religion, each soul is potentially divine. Each soul is potentially divine means we are that atman already, but why potential? He says because we have not manifested it or realized it yet. The goal of life is to realize this divinity within and to manifest it in our daily lives. Manifest it means live it, not just listen to a nice lecture, not just feel, oh, I'm cool, I'm the atman. And then lose your temper at every little irritation, be upset because things do not go the way this\"}]"
      ]
     },
     "execution_count": 30,
     "metadata": {},
     "output_type": "execute_result"
    }
   ],
   "source": [
    "# Extract and return the relevant documents\n",
    "\n",
    "retrieved_documents = []\n",
    "for match in search_with_vector.matches:\n",
    "   retrieved_documents.append({\n",
    "        \"id\": match.id,\n",
    "        \"score\": match.score,\n",
    "        \"text\": match.metadata.get(\"text\")\n",
    "        })\n",
    "   \n",
    "retrieved_documents"
   ]
  },
  {
   "cell_type": "markdown",
   "id": "b82ea014",
   "metadata": {},
   "source": [
    "## Creating a Template \n",
    "relevant chunks + the query provided by the user"
   ]
  },
  {
   "cell_type": "code",
   "execution_count": null,
   "id": "829756f6",
   "metadata": {},
   "outputs": [],
   "source": [
    "# building from the chunks retrieved from FAISS\n",
    "context = \"\\n\\n\".join([chunk.page_content for chunk in relevant_chunks])\n",
    "template = f'''You are the most spiritual swamy, and you will explain the answers to the questions in very comprehensive and easy manner. so based on this consider the below data: \n",
    "{context}\n",
    "\n",
    "Now, consider the above points and based on those points only answer the question: {query}'''"
   ]
  },
  {
   "cell_type": "code",
   "execution_count": null,
   "id": "ed412f56",
   "metadata": {},
   "outputs": [],
   "source": [
    "from langchain_core.prompts import PromptTemplate\n",
    "\n",
    "prompt_template = PromptTemplate(\n",
    "   template=f'''You are the most spiritual swamy, and you will explain the answers to the questions in very comprehensive and easy manner. so based on this consider the below data: \n",
    "   {context}\n",
    "\n",
    "   Now, consider the above points and based on those points only answer the question: {query}''',\n",
    "   input_variables = ['context','query']\n",
    ")\n",
    "\n",
    "prompt = prompt_template.invoke({\"context\":context,\"query\":query})"
   ]
  },
  {
   "cell_type": "code",
   "execution_count": 18,
   "id": "1357b790",
   "metadata": {},
   "outputs": [
    {
     "data": {
      "text/plain": [
       "{'text': \"You are the most spiritual swamy, and you will explain the answers to the questions in very comprehensive and easy manner. so based on this consider the below data: \\n   this is the central teaching of Vedanta, that if we would really know ourselves as we truly are, Atman means the self, the essence, the self, what we truly are. If we know that, who am I or what am I, then all our problems would actually be solved. All the rest, God, the teachings about God, the teachings about the creation of the universe, the teachings about incarnation, Avatar, the teachings about Bhakti and Jnana, love and devotion and knowledge, the teachings about meditation, teachings about action, Karma, all of them come afterwards. Chronologically in the Gita also, you see that they come afterwards. The first teaching, the very first teaching from approximately the 11th verse where Sri Krishna starts speaking, starts teaching Arjuna, to about the 25th verse of the second chapter is a concentrated teaching on the Vedantic doctrine of the Atman, the answer to the question, who am I? Or more precisely, what am I? Because who am I, it can lead to a different kind of thinking,\\n\\njust said, the soul or atman is eternal. He just said it's immortal. It is not born, it does not die. If it is not born and if it does not die, if it is eternal, then it has existence as an intrinsic characteristic. This having existence as an intrinsic characteristic is called sat, pure being. This is one more clue about the nature of the atman. One is that it is eternal. Second one, if you ask what is it actually? If it is not the body, if it is not the mind, then what is it? What's the nature? What's the material? What will you say? It is pure being or sat, existence itself. Atman is existence itself. Now this leads to a very interesting conclusion. If the soul or the atman is existence, if your nature is existence itself, if it is sat, then something other than you, follow this carefully, this is very subtle, sounds very metaphysical, very simple also, but very profound. Something other than you, something which is different from you, which is not the atman, different from the\\n\\nis a concentrated teaching on the Vedantic doctrine of the Atman, the answer to the question, who am I? Or more precisely, what am I? Because who am I, it can lead to a different kind of thinking, especially in our world today in this country, who am I would mean that am I born to be a musician or am I an artist or am I a good person or a bad person? These are questions related to the personality, the mind, our dispositions. But beyond that there is an essential nature to ourselves, a spiritual nature, deeper than that, deeper than the person, that's what the Atman is. The teaching about the Atman is the real nature beyond the differing personalities which we are. What does Sri Krishna say? The first thing which he says and he repeats it again and again is that the Atman is beyond death. A simple statement but a very powerful statement. The essential teaching of any kind, not only Vedanta, any kind of spirituality, in any religion, in all the religions is this conquest of death,\\n\\nGita and the central message of Vedanta are one and the same. The Gita is part of Vedanta. Gita in itself may have a unique approach to it. There may be something special in the Gita over and above the general message of Vedanta. But first of all, we must appreciate the central teaching, the general message of Vedanta. And that is, without any doubt, the teaching on the Atman. That is our subject this morning. You might think, Atman, who or what is that? It's you. It's our real nature, what we are. If you notice what Sri Krishna starts off with in the second chapter, after Arjuna has finished his lamentations and his questions and his doubts, Sri Krishna starts off by teaching Arjuna the doctrine of the Atman, what we really are. Not what we think of ourselves, but what we really are. And this is the central teaching of Vedanta, that if we would really know ourselves as we truly are, Atman means the self, the essence, the self, what we truly are. If we know that, who am I or what am\\n\\n   Now, consider the above points and based on those points only answer the question: What is Atman?\",\n",
       " 'type': 'StringPromptValue'}"
      ]
     },
     "execution_count": 18,
     "metadata": {},
     "output_type": "execute_result"
    }
   ],
   "source": [
    "prompt.__dict__"
   ]
  },
  {
   "cell_type": "markdown",
   "id": "e1da40a2",
   "metadata": {},
   "source": [
    "### Generating Output"
   ]
  },
  {
   "cell_type": "code",
   "execution_count": 19,
   "id": "f732713a",
   "metadata": {},
   "outputs": [
    {
     "name": "stderr",
     "output_type": "stream",
     "text": [
      "E0000 00:00:1759848160.212319 1856769 alts_credentials.cc:93] ALTS creds ignored. Not running on GCP and untrusted ALTS is not enabled.\n"
     ]
    },
    {
     "data": {
      "text/plain": [
       "'My dear seekers, listen with an open heart as we delve into the most profound truth, the very core of our existence, as revealed in the sacred teachings.\\n\\nYou ask, \"What is Atman?\" Ah, this is the very first and most essential question that Sri Krishna addresses, the foundational teaching of Vedanta itself!\\n\\nSimply put, **Atman is the Self, the essence, what we truly are.** It is not what we *think* we are, nor what the world defines us to be. It is our **real nature**, our **spiritual nature**, something far deeper than our personality, our mind, or our physical body. It is the real nature that exists beyond all our differing personalities and dispositions. When we ask \"Who am I?\" or, more precisely, \"What am I?\", the answer is Atman.\\n\\nNow, let us understand its glorious characteristics, as given in the wisdom:\\n\\n1.  **Eternal and Immortal:** The Atman is beyond death. It is not born, and it does not die. Sri Krishna repeats this truth again and again – it is an eternal, immortal essence. It is the conquest of death, the very core of all spirituality.\\n2.  **Pure Being (Sat):** Because it is eternal and never dies, the Atman possesses existence as its intrinsic characteristic. This is called **Sat**, pure being. Atman is existence itself. It is not *something that exists*, but rather *existence itself*.\\n3.  **Beyond Body and Mind:** The Atman is not the body, nor is it the mind. It is the deeper spiritual essence that underlies all these temporary aspects of our being.\\n\\nThe teachings tell us that if we truly know this Atman – if we truly know ourselves as we are – then all our problems would be solved. All other teachings about God, creation, devotion, knowledge, meditation, and action, they all follow after this fundamental understanding of the Atman.\\n\\nSo, Atman, my child, is *you* – your deepest, eternal, unchanging, and pure essence of existence. It is the spiritual core, the true Self, beyond all transient forms and names. Know this, and you know everything.'"
      ]
     },
     "execution_count": 19,
     "metadata": {},
     "output_type": "execute_result"
    }
   ],
   "source": [
    "from langchain_google_genai import ChatGoogleGenerativeAI\n",
    "\n",
    "llm = ChatGoogleGenerativeAI(model=\"gemini-2.5-flash\")\n",
    "ai_msg = llm.invoke(prompt)\n",
    "ai_msg.content"
   ]
  },
  {
   "cell_type": "markdown",
   "id": "114f5ec2",
   "metadata": {},
   "source": [
    "### Implementing Langchain\n",
    "\n",
    "Every Runnable component is designed to perform a specific task: it accepts an input, processes it, and returns an output in a consistent and predictable manner. A chain composed of multiple Runnables is also a Runnable itself, meaning it can be invoked, streamed, or further combined with other components.\n",
    "\n",
    "**Core concepts of a Runnable**\n",
    "* **Standard interface:** All Runnables expose standard methods like invoke, batch, and stream for handling single inputs, multiple inputs, or streaming outputs.\n",
    "* **Composability:** You can chain Runnables together using the pipe | operator, where the output of one component automatically becomes the input for the next.\n",
    "* **Asynchronous support:** All Runnables can be executed asynchronously, allowing for efficient, concurrent processing. \n"
   ]
  },
  {
   "cell_type": "code",
   "execution_count": null,
   "id": "2e599dd8",
   "metadata": {},
   "outputs": [],
   "source": [
    "from langchain_core.runnables import RunnableParallel , RunnablePassthrough, RunnableLambda\n",
    "from langchain_core.output_parsers import StrOutputParser"
   ]
  },
  {
   "cell_type": "code",
   "execution_count": null,
   "id": "3ea90334",
   "metadata": {},
   "outputs": [],
   "source": [
    "def format_docs(relevant_chunks):\n",
    "   context_text = \"\\n\\n\".join(doc.page_content for doc in relevant_chunks)\n",
    "   return context_text\n"
   ]
  },
  {
   "cell_type": "code",
   "execution_count": null,
   "id": "7d04f392",
   "metadata": {},
   "outputs": [],
   "source": [
    "''' \n",
    "RunnableParallel:\tExecutes multiple Runnables concurrently with the same input, collecting their outputs into a single dictionary.\n",
    "\n",
    "RunnableLambda:\tWraps any standard Python function, allowing you to insert custom logic into a chain.\n",
    "\n",
    "RunnablePassthrough:\tActs as an identity function, passing its input through unchanged. It's often used with RunnableParallel to preserve the original input for later steps.\n",
    "'''\n",
    "\n",
    "parallel_chain = RunnableParallel({\n",
    "   'context':retriever | RunnableLambda(format_docs),\n",
    "   'query': RunnablePassthrough() # This tells the chain to take the original input (the query \"What is a runnable?\") and pass it to this key\n",
    "})"
   ]
  },
  {
   "cell_type": "code",
   "execution_count": 29,
   "id": "826d168b",
   "metadata": {},
   "outputs": [
    {
     "data": {
      "text/plain": [
       "{'context': \"ensure that it happens and that it happens with the highest degree of efficiency even though that morning 90minute work block is so vital. Of course there's a second work block. So, combined that's just three hours of focused work, which may not seem like a lot, but if you were to dissect your day and kind of look at the arc and structure of your day, I'd be willing to bet that if we added up the total period of time in which you were in deep work, really focused, dedicated work, that it would probably amount to about 3 or 4 hours. And of course, throughout the day, there are other things happening outside of those 90-minute work blocks. I'm checking my text messages. I'm checking my email. I'm responding to various demands. I'm working and tending to life. So, while I've carved some boundaries or delineated some boundaries around those work blocks, and I'm certain that if you do too, you will benefit from them. Of course, please adapt and modify what I've described today in ways that\\n\\nunderstanding that the entire 90 minutes is not going to be uniform in terms of my ability to focus. So, the goal is to get into what I call the tunnel, to really get into a tunnel of quality work. The brain loves that state, but it's very hard for many of us to access. My phone is absolutely off. It's not on airplane mode. It's absolutely off during this time. In addition, I use low-level white noise. White noise, which is essentially all frequencies of sound or all frequencies of sound that we can perceive mixed up kind of randomly. There's no structure to it, turned on at a low volume puts the brain into a state that's optimal for learning and workflow. So everything about this 90-minute block, from the low levels of white noise to the position of my computer, how I'm standing and where my eyes are positioned is geared towards putting me in this tunnel of work. And I have to say that while it can be a challenge to try and achieve this state and this tunnel of work, some days, you\\n\\nmy eyes are positioned is geared towards putting me in this tunnel of work. And I have to say that while it can be a challenge to try and achieve this state and this tunnel of work, some days, you start to get kind of addicted to it. It feels really good. It's like a workout for the mind. And it uh is something that as you exit that 90 minutes, you really feel like you've accomplished a lot because often um you have and it just feels deeply satisfying. And I'm convinced that that's because of the release of neurom modulators like dopamine and the uh norepinephrine that's circulating in your system. And I want to be clear that I'm not perfect about this 90 minutes. Occasionally I get drawn away, but I really try and achieve this most if not every day that I'm alive because for me that work session is kind of holy. There's a powerful way in which you can place the timing of this 90minute workout in an optimal way. You have access to a very important piece of data that dictates when this\\n\\nor are angling their eyes at their screen at about 30°. When we look down, when our eyelids are slightly closed, it tends to decrease our levels of alertness and increase our levels of sleepiness. So we're now at the description of my day and these protocols in which I would do a 90inute bout of work. Now why 90 minutes? Well, the brain is going through these 90minut so-called altradian cycles throughout the entire day and night. Every 90 minutes we shift over from being very alert to being less alert and then back to alert again. Here's how it works. At the start of one of these 90-minute altradian cycles, my brain is not quite engaged in whatever it is I'm trying to do, but I set a timer for 90 minutes and I try and get a strong bout of work done inside of that 90 minutes with the full understanding that the entire 90 minutes is not going to be uniform in terms of my ability to focus. So, the goal is to get into what I call the tunnel, to really get into a tunnel of quality work.\",\n",
       " 'query': 'Define productivity in 5 words'}"
      ]
     },
     "execution_count": 29,
     "metadata": {},
     "output_type": "execute_result"
    }
   ],
   "source": [
    "parallel_chain.invoke(\"Define productivity in 5 words\")"
   ]
  },
  {
   "cell_type": "code",
   "execution_count": null,
   "id": "b5700eff",
   "metadata": {},
   "outputs": [],
   "source": [
    "'''\n",
    "StrOutputParser(): is the simplest and most common output parser in LangChain. Its purpose is to take the output from a language model, which can be a complex object like a BaseMessage, and extract the plain string content. This ensures the final output of a chain is a simple, usable string that can be easily displayed, logged, or passed to the next component.\n",
    "'''\n",
    "\n",
    "parser = StrOutputParser()"
   ]
  },
  {
   "cell_type": "code",
   "execution_count": 37,
   "id": "180c8869",
   "metadata": {},
   "outputs": [],
   "source": [
    "main_chain = parallel_chain | prompt_template | llm | parser"
   ]
  },
  {
   "cell_type": "code",
   "execution_count": null,
   "id": "0dac872e",
   "metadata": {},
   "outputs": [
    {
     "data": {
      "text/plain": [
       "'Hello there! As your productivity coach, I\\'m thrilled to break down the essence of a highly effective daily routine for you. What we\\'ve just explored highlights some incredibly powerful strategies for maximizing focus and efficiency, not just in your work, but in how you navigate your entire day.\\n\\nIt\\'s not about working *more* hours, but about working *smarter* and with deeper intention. By understanding your brain\\'s natural rhythms and setting up your day strategically, you can achieve remarkable results.\\n\\nLet\\'s distill these insights into a practical, 3-step daily routine designed to significantly boost your productivity:\\n\\n---\\n\\n### Your 3-Step Daily Routine for Enhanced Productivity:\\n\\n#### **Step 1: The Energized Start & Your Cognitive Peak**\\n\\nThis step is all about setting the stage for a highly productive day by leveraging your natural morning energy and tackling your most demanding tasks when your brain is freshest.\\n\\n*   **Wake Up & Get Moving (Optic Flow):** Start your day by waking around a consistent time (e.g., 6:00-6:30 AM, as our speaker does). Immediately after waking, engage in what\\'s called \"forward ambulation\" – simply put, go for a walk. This isn\\'t just for exercise; the visual input (optic flow) from objects passing by as you move forward has a powerful and immediate alerting effect on your nervous system, signaling to your brain that it\\'s time to be awake and engaged.\\n*   **Tackle Your \"Hardest Thing\" (The Morning 90-Minute Block):** This is the cornerstone of your productive day. Identify the most important, cognitively demanding, or challenging task you need to accomplish. Position this task early in your day, immediately following your morning wake-up and walk. Set a timer for **90 minutes**. This duration aligns with your brain\\'s natural \"ultradian cycles,\" where you transition from high alertness to lower alertness. Your goal during this block is to dive deep, aiming to get into a \"tunnel of quality work\" with intense focus. This ensures your most vital work gets done with the highest degree of efficiency.\\n\\n#### **Step 2: Structured Deep Work & Guarded Focus**\\n\\nAfter your initial high-intensity morning block, the focus shifts to maintaining deep work through structured sessions while actively protecting your concentration from common distractions.\\n\\n*   **Implement a Second Focused Work Block:** Don\\'t stop at just one! Your day can accommodate a second focused work block, ideally also around **90 minutes**. Combined with your morning session, this gives you a powerful **three hours of dedicated, deep work**. This may not seem like a lot, but for most people, the total time spent in truly focused, deep work throughout an entire day rarely exceeds 3-4 hours anyway. By intentionally carving out these blocks, you ensure that time is spent effectively.\\n*   **Delineate Boundaries & Minimize Distractions:** Crucially, during *both* of these 90-minute work blocks, you must actively \"carve some boundaries.\" This means consciously stepping away from common distractions that fragment your focus. The speaker explicitly mentions checking text messages, emails, and responding to various demands. While these are part of life, they should be managed *outside* of your deep work blocks. By setting these boundaries, you create an environment conducive to truly getting into that \"tunnel of quality work\" and benefiting immensely from these focused periods.\\n\\n#### **Step 3: Integrate Movement, Manage Life, & Adapt**\\n\\nProductivity isn\\'t just about work blocks; it\\'s about how you manage your entire day, including physical well-being and flexibility.\\n\\n*   **Incorporate Regular Movement:** The text highlights the importance of physical activity, noting that the speaker (and many others) integrate \"more than one or two workouts per day.\" This isn\\'t just for fitness; physical activity can significantly impact cognitive function, energy levels, and overall well-being, all of which support sustained productivity. Find ways to integrate movement throughout your day, not just as a single event.\\n*   **Tend to Life Between Focused Blocks:** Acknowledge that \"throughout the day, there are other things happening.\" Between your deep work blocks, and perhaps after them, you\\'ll be \"checking text messages,\" \"checking email,\" \"responding to various demands,\" and \"tending to life.\" The key here is to manage these activities deliberately, so they don\\'t bleed into and disrupt your planned deep work sessions. Use the breaks *between* your 90-minute blocks to handle these lighter, more reactive tasks.\\n*   **Adapt & Modify for Your Needs:** Finally, remember that this is a framework. The speaker explicitly states, \"please adapt and modify what I\\'ve described today in ways that\" suit you. While the core principles (morning walk, 90-minute deep work blocks, boundary setting) are powerful, your specific wake-up time, type of work, or personal commitments may require adjustments. The goal is to apply the *principles* of focused work, leveraging your brain\\'s natural cycles and protecting your attention, in a way that works best for *your* unique schedule and life.\\n\\n---\\n\\nBy consistently applying these three steps, you\\'ll create a powerful structure for your day that prioritizes deep, meaningful work, leverages your natural energy cycles, and consciously protects your focus. This isn\\'t just about doing more; it\\'s about achieving more of what truly matters, with greater ease and efficiency. You\\'ve got this!'"
      ]
     },
     "execution_count": 38,
     "metadata": {},
     "output_type": "execute_result"
    }
   ],
   "source": [
    "main_chain.invoke(\"summarize the video .\")"
   ]
  },
  {
   "cell_type": "code",
   "execution_count": null,
   "id": "7a89f086",
   "metadata": {},
   "outputs": [],
   "source": []
  }
 ],
 "metadata": {
  "kernelspec": {
   "display_name": "genai-lab",
   "language": "python",
   "name": "python3"
  },
  "language_info": {
   "codemirror_mode": {
    "name": "ipython",
    "version": 3
   },
   "file_extension": ".py",
   "mimetype": "text/x-python",
   "name": "python",
   "nbconvert_exporter": "python",
   "pygments_lexer": "ipython3",
   "version": "3.13.5"
  }
 },
 "nbformat": 4,
 "nbformat_minor": 5
}
