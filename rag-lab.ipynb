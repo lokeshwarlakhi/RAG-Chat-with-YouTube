{
 "cells": [
  {
   "cell_type": "markdown",
   "id": "a2b92998",
   "metadata": {},
   "source": [
    "# Document Ingestion (Indexing)"
   ]
  },
  {
   "cell_type": "code",
   "execution_count": 2,
   "id": "b6b24921",
   "metadata": {},
   "outputs": [],
   "source": [
    "from youtube_transcript_api import YouTubeTranscriptApi\n",
    "from langchain_text_splitters import RecursiveCharacterTextSplitter\n"
   ]
  },
  {
   "cell_type": "markdown",
   "id": "44f80199",
   "metadata": {},
   "source": [
    "### Getting trascript of the yt video "
   ]
  },
  {
   "cell_type": "code",
   "execution_count": 15,
   "id": "9006178d",
   "metadata": {},
   "outputs": [
    {
     "name": "stdout",
     "output_type": "stream",
     "text": [
      " now let's talk about how the best students structure their days turns out there are great studies on this there is a really nice paper in fact that surveyed close to 700 students these were medical students approximately equal number of male and female students and analyze the most useful learning habits that is the learning habits associated with the most successful students now anytime you do a study like this where people take surveys there's always the issue of causality in fact we can pretty much set aside any possible causality for instance I'm about to tell you that the very best performing students tend to study for about three or four hours per day but you could easily say Well they're the best students because they study three or four hours per day they don't study three or four hours per day because they're the best students and you'd be exactly right okay we can get into all sorts of discussions about correlation versus causation about reverse causality and on and on however none of that is the point here the point here is to establish what are the habits that the most successful students seem to incorporate over and over again regardless of what classes they're taking regardless of where they are in their Arc of their learning trajectory and so what we know based on this study and I'll provide a link to it in the show note captions is that there are at least 10 study habits that the highly effective students use I'm going to focus on the top five or six just for sake of time because it turns out that most of the effect it appears of being a better student can be attributed to these top five or six habits first of all they set aside time to study they literally schedule time to study now this probably serves several roles the first one is that they are able to clear out other distractions and in fact that's the second thing that they do they are very effective where they make it a point of putting their phone away and off of isolating themselves that's right they're not studying with other people they study alone which is not to say that people who study with others cannot be effective in their studying but the best performing students seem to study alone they put their phone away they tell their friends and families that they are not going to be able to be reached during that time and yes they study for three or four hours per day but they break that up into a couple of different sessions typically two or three sessions so they're not doing a three or four hour studying about all in one shot so they're managing their time they're eliminating distractions and they're studying for a consistent amount of time at least 5 days per week okay presumably they're taking some weekends off although that wasn't made clear from this paper the other thing that they do and this is very important is that they make an effort to then teach their peers to teach other students in the class now some of you may be thinking and I'm thinking back to college here mostly that if you spend all this time learning the information and you are in a competitive scenario with the other students that teach teaching them the information is kind of a freebie for them and it's harder for you meaning you're putting yourself at a competitive disadvantage or you're giving them an unfair Advantage for not having done the work now while this paper didn't do an analysis of whether or not these students that served as the Learners from the other students got an unfair Advantage it's very clear that students who make it a point to learn material in isolation then bring that material to other students in the same course and teach them perform exceedingly well in comparison to the other students so don't be afraid to be a teacher of your peers in order to test this is key to test and develop Mastery of the material now in my laboratory for years we used to have a saying which I simply picked up from the Laboratories I was trained in I didn't come up with the saying which was watch one do one teach one and that was referring to doing surgeries or suturing or doing an antibody reaction or a western blot or things that you do in Laboratories watch one do one teach one watch one do one teach one of course should be reserved to anything where no one's going to be put in danger by the watch one do one teach one procedure right some procedures especially in Laboratories can be dangerous given the materials you use Etc and of course today we're talking about learning and studying generally so provid it it's safe watch one do one teach one is an excellent means to learn that is to study new material to develop proficiency and even Mastery and over time perhaps even virtuosity we'll return to that that later those distinctions so going back to this idea that the best students set aside time they designate time to study alone without distractions that is sure to help them anchor their focus and attention they know that they're going to need to use their focus and attention during that time and we know with absolute certainty that focus and attention are a limited but renewable resource in the human brain the longer you're awake the more is the buildup of a molecule called adenosine in your brain and body it makes you sleepy makes it harder to focus when you sleep adenosine levels are pushed down again you're able to focus again you feel more alert you can think of adenosine as limiting your attentional budget which is not to say that some people don't study best in the afternoon or in the evening or even late at night right I recall times during University when I'd study between the hours of 10: p.m. and 2: am. I don't do that any longer but scheduling time where you know you're going to need to be focused and attending is perhaps one one of the most important things toward being able to focus and attend to the material now if you're taking courses you probably are going to be a slave to the timing of the courses you aren't going to be able to tell the instructor okay listen I want you to do this course at you know 3 p.m. because that's when you learn best or 8: a.m. because that's when you happen to be able to attend best however to the extent that you have any control over the time in which you're going to study keeping that at a regular time or times perhaps one block early in the day one block later in the day perhaps two blocks early in the day and and so on is going to be beneficial it turns out that's also supported by the research literature that the brain just like with its sleep wake cycles that entrain to a regular schedule that is your brain and body get used to being active and inactive at particular times based on your exposure to sunlight your exposure to activities your social rhythms Etc if you regularly meaning for the course of about 3 days make it a point to focus and study at particular times again pulling your attention back it's not an automatic process but pulling your attention back to a specific location perhaps on a page or that you're listening to in a lecture your body and brain will start to entrain to that Rhythm such that you will be able to focus and attend better simply by virtue of the regularity of the timing of the exposure to the material okay so you probably need about two or three days to break into a regular schedule of focusing and attending and studying at a given time or times allow yourself that transition period but then make it a point to schedule those times to study set aside your phone tell people you're going offline turn off the Wi-Fi if you need to or have to you may need it for your studying I don't know depends on what you're studying but limit distractions at all costs and learn to just focus on the material and this is a skill this is the most important thing to understand it's a skill to be able to focus and study and it's a skill that you can learn very quickly especially if you SK schedule it for regular times and you give yourself two or three days in which to adapt to those schedules and times and then try and stick to them as regularly as possible perhaps even on the weekends if you're approaching you know the end of the quarter or semester perhaps even on the weekend even if you're not in the quarter of semester keeping those regular times will entrain your nervous system to study and learn at its best at those particular times there's one other point that I wanted to pass along from this uh really nice study on the study abits of Highly Effective medical students that I've been referring to and that is when one examined or these people were asked about their motivation for studying the best performing students had an interesting answer they had a very long-term understanding of how or belief rather about how their success in medical school would impact their family how it would impact their life Arc how it would change them and they weren't particular about the ways in which it would change them or their family in fact it was a rather broad abstract aspirational way of thinking about their study efforts so what I like so much about this paper is that you know in addition to having a fairly large sample size close to 700 students that were evaluated and yes it's purely uh you know self-report and this kind of thing nonetheless it Bridges the two extremes of studying and learning you know it gets right down into the nitty-gritty of how long they study when they study the things they do to limit distraction that we just discussed but it also gets to their underlying psychological motivations and the thing that they use in order to pull them forward through their study efforts perhaps especially when their desire is waning or their uh level of fatigue is increasing I don't know that I'm speculating here but this is this aspirational component of going to medical school which it turns out in the country in which the study was done um only very very select few of the very best students are able to achieve that they have to learn the information in a different language altogether which is incredible I always Marvel at that you know I have friends that did their PHD thesis in Italy they're Italian by birth they now happen to run a laboratory in Italy and they had to do their PHD training and write papers and give their thesis dissertation and defense in English even though English was their second language so talk about a challenge and um that's just one example that I can think of there are many examples of that these students that I'm referring to in this study are not necessarily constantly thinking about how their efforts will transform themselves and their families but they certainly were able to report what it was specifically that they are seeking what they're aspiring to besides just trying to do as well as they can getting into and through medical school so the high level aspirational stuff within you whatever that is for you it's going to be highly individual is certainly important and it offers a bookend to the nuts and bolts he kind of stuff that you're going to do I would hope in order to best study and learn the specific material so the specific actions that you're going to take each day to learn specific bits of information that will pull you toward those important aspirations and now again if you love the material you're learning this aspirational component is probably not as important right I can recall during University and uate school and so on thinking oh my goodness this is like the coolest thing I've ever heard I probably say that about a million different topics like oh my goodness circadian rhythms seasonal rhythms melatonin neural circuits dopamine I was just a wash with excitement about what I was learning but of course sometimes I would take a course where the material was I don't know if it was more challenging or not but I had a harder time getting engaged by the material either by virtue of how it was being taught to me or the material itself so the ability to attach to some aspirational goal to pull you through can be very valuable you're not going to love every topic you have to learn however I will say that at least in my experience some of the courses that I look back on most fondly are the courses that I struggled with the most and in fact that's the basis of the next and easily one of the most important studying tools so a key theme in all of the excellent literature that is the peer-reviewed research on how best to study is that studying that feels challenged in is the most effective I know nobody wants to hear this everyone wants to hear about flow everybody wants to hear about information just sinking into their brain by osmosis I think it was a Garfield cartoon where he talked about learning by osmosis there's this very cute real world video of a kid in a classroom uh I believe uh it's in China where he's taking the book and he puts it on his head maybe I can find this clip and he's just kind of like trying to wash it into his brain it's super cute clip but guess what that doesn't work I mean it works to put the book on your head it doesn't work to it's not going to get the information into your brain uh perhaps someday there will be ways to rapidly download information into neural circuits right now we know we've known for hundreds if not thousands of years that effort is the Cornerstone of learning so I know there probably some groans about that I know some of you perhaps were hoping that today I was going to tell you how to study so that studying wasn't painful I think I can accomplish that by the end of today episode but in order to do that let's take another quiz can you name or List off in your mind three tools that the most effective students have been shown to use I can think of limiting distraction by virtue of putting away phones and telling others you won't be in contact with them two and I'm getting these out of order I realize is to isolate to study alone and the third that I can recall is to teach others in the same course okay you can probably think of a few others now why are we taking these silly little quizzes Well turns out they're not so silly when one considers that hopefully you'll remember the information from today so that you don't have to listen to it over and over again but that if ever there was a strongly research supported tool in the literature in the peer-reviewed literature about how students can learn information better it's testing and I know I know I know we think of tests as a way to evaluate our knowledge but it turns out that testing is one of the best ways to build our knowledge to retain our knowledge and again to offset forgetting [Music]\n"
     ]
    }
   ],
   "source": [
    "ytt_api = YouTubeTranscriptApi()\n",
    "# fetched_transcript = ytt_api.fetch(\"Pmd6knanPKw\",languages=[\"en\",\"hi\"])\n",
    "fetched_transcript = ytt_api.fetch(\"1bszFX_XcbU\",languages=[\"en\",\"hi\"])\n",
    "\n",
    "transcript = \"\"\n",
    "\n",
    "for snippet in fetched_transcript:\n",
    "   transcript= transcript + \" \" + snippet.text\n",
    "\n",
    "print(transcript)"
   ]
  },
  {
   "cell_type": "markdown",
   "id": "6bda1ce8",
   "metadata": {},
   "source": [
    "### Using Text splitter to create chunks "
   ]
  },
  {
   "cell_type": "code",
   "execution_count": 4,
   "id": "29018239",
   "metadata": {},
   "outputs": [
    {
     "data": {
      "text/plain": [
       "39"
      ]
     },
     "execution_count": 4,
     "metadata": {},
     "output_type": "execute_result"
    }
   ],
   "source": [
    "# chunk_size, chunk_overlap, seperator, \n",
    "text_splitter = RecursiveCharacterTextSplitter(chunk_size=1000,chunk_overlap=200)\n",
    "chunks = text_splitter.create_documents([transcript])\n",
    "len(chunks)\n",
    "\n",
    "# to see how a chunk looks like\n",
    "# for chunk in chunks :\n",
    "#    print(chunk)"
   ]
  },
  {
   "cell_type": "markdown",
   "id": "241d4eba",
   "metadata": {},
   "source": [
    "### Using Embedding Models to embedd data."
   ]
  },
  {
   "cell_type": "code",
   "execution_count": 5,
   "id": "e4a45350",
   "metadata": {},
   "outputs": [],
   "source": [
    "# Setting up Env Variables\n",
    "import os\n",
    "import getpass\n",
    "from dotenv import load_dotenv\n",
    "\n",
    "load_dotenv()\n",
    "\n",
    "if \"GOOGLE_API_KEY\" not in os.environ:\n",
    "   # os.environ[\"GOOGLE_API_KEY\"] = os.getenv(\"GOOGLE_API_KEY\")\n",
    "   os.environ[\"GOOGLE_API_KEY\"] = getpass.getpass(\"Enter your Google API key:\")"
   ]
  },
  {
   "cell_type": "code",
   "execution_count": 6,
   "id": "a2c012d7",
   "metadata": {},
   "outputs": [
    {
     "name": "stderr",
     "output_type": "stream",
     "text": [
      "WARNING: All log messages before absl::InitializeLog() is called are written to STDERR\n",
      "E0000 00:00:1759757027.806011 1252069 alts_credentials.cc:93] ALTS creds ignored. Not running on GCP and untrusted ALTS is not enabled.\n",
      "E0000 00:00:1759757027.809868 1252069 alts_credentials.cc:93] ALTS creds ignored. Not running on GCP and untrusted ALTS is not enabled.\n"
     ]
    }
   ],
   "source": [
    "# Configuring Embedding Model\n",
    "from langchain_google_genai import GoogleGenerativeAIEmbeddings\n",
    "\n",
    "embeddings = GoogleGenerativeAIEmbeddings(model=\"models/gemini-embedding-001\")"
   ]
  },
  {
   "cell_type": "code",
   "execution_count": 7,
   "id": "9f59e3f9",
   "metadata": {},
   "outputs": [],
   "source": [
    "# Loading documents to vector store/DB\n",
    "import faiss\n",
    "from langchain_community.docstore.in_memory import InMemoryDocstore\n",
    "from langchain_community.vectorstores import FAISS\n",
    "\n",
    "vector_store = FAISS.from_documents(chunks,embeddings)\n"
   ]
  },
  {
   "cell_type": "code",
   "execution_count": 8,
   "id": "7e035aa7",
   "metadata": {},
   "outputs": [
    {
     "data": {
      "text/plain": [
       "{0: '74802725-6ee4-46a5-92d7-0019617c365d',\n",
       " 1: '49030216-5d5f-4ab2-b99e-ef4d957c5fa9',\n",
       " 2: 'fac401f9-aad0-4d7b-82ef-e0afcfcb8133',\n",
       " 3: '965422ae-d254-4820-9417-7e158e2c7871',\n",
       " 4: '9476889e-d88b-4eb4-a5b0-eafa56bd7337',\n",
       " 5: 'be344d9b-a497-4548-a28a-fa69791c4418',\n",
       " 6: 'c6120b76-4192-4147-860d-d5c5627d4f1e',\n",
       " 7: '386cd8eb-6009-499a-9ba5-ca29a7180de9',\n",
       " 8: '40485856-be89-4659-9317-d08e26e39c99',\n",
       " 9: 'ad887d9e-aa79-4465-b0a7-a9b8f5731e5e',\n",
       " 10: '0eee9f60-e701-4d43-b027-6dbcdd4a2722',\n",
       " 11: 'd67e06a0-0457-42d5-992b-14808e058e1d',\n",
       " 12: '6ce58786-896e-4d0f-8e48-5147c45ec6ac',\n",
       " 13: '346eeb55-149e-4548-8e5c-f9d491ad7ab9',\n",
       " 14: 'a7b235f0-08af-4a5a-9d81-7e6025f5baf0',\n",
       " 15: 'e3534c8d-d9e4-44d7-8830-51b072f1a017',\n",
       " 16: '656efb2b-bb2a-4cc0-be3c-6dbdf19bd9c1',\n",
       " 17: 'ff4bb734-830d-47b4-9987-75e2d96ef890',\n",
       " 18: '6018497a-7cb0-4d0f-a42e-559769221cdf',\n",
       " 19: '6a7bca86-7ab2-4ecd-9a70-86bb2efbe364',\n",
       " 20: 'cce60d91-be8d-4794-a360-8b4ec1b88b88',\n",
       " 21: '0c2249a6-7e3c-4196-9957-055b3cc65e75',\n",
       " 22: 'b29fcc58-7399-4c77-86a8-5bdb1af7e5bd',\n",
       " 23: '37c83972-daa4-41d8-aa41-8ebd2d30feaa',\n",
       " 24: '95c6f4b2-b5aa-465a-a2fc-6f8cfc6aa662',\n",
       " 25: '99b6e24c-aa92-4502-ad8d-a1828d0a3134',\n",
       " 26: '4c62a6de-e445-497b-871d-7d0a031ffe9d',\n",
       " 27: '6e479d27-963a-41f0-be12-64f459fc11e5',\n",
       " 28: 'b04daaa3-1e84-49a0-9cae-59a3807a3465',\n",
       " 29: '4cc32037-93c3-43d6-b23f-c23e1d8384b7',\n",
       " 30: '27994189-5d05-442c-a6ef-e6212a10c1d5',\n",
       " 31: 'a6abcaed-7a51-4bd9-b571-4ca28af3d8d8',\n",
       " 32: '4f8fcacd-2ea8-4797-97d1-482d52ab641f',\n",
       " 33: 'd7c08e9c-1f39-44c9-a190-b283f6387c2f',\n",
       " 34: 'ed022ea0-3b68-4cde-99c0-b2cef43b4ec0',\n",
       " 35: 'fe4074dd-cd2e-4dcb-83ad-3e548fe98ccd',\n",
       " 36: '54c0454d-d51c-43e7-b920-0bc068b27b44',\n",
       " 37: 'a0b0114e-a619-4efe-a38c-fba784f1ab00',\n",
       " 38: 'a25a6fdb-f4bf-4675-a884-f45225daea3b'}"
      ]
     },
     "execution_count": 8,
     "metadata": {},
     "output_type": "execute_result"
    }
   ],
   "source": [
    "vector_store.index_to_docstore_id"
   ]
  },
  {
   "cell_type": "markdown",
   "id": "7a30862f",
   "metadata": {},
   "source": [
    "### Building a Retriever\n",
    "\n",
    "there are multiple types of retrieveres , we are building one from the vector store, as we say \"all vector stores can be cast to retrievers\". we can do this by using `.as_retriever()` method which creates a  `VectorStoreRetriever` instance"
   ]
  },
  {
   "cell_type": "code",
   "execution_count": 9,
   "id": "f0ec776c",
   "metadata": {},
   "outputs": [
    {
     "data": {
      "text/plain": [
       "VectorStoreRetriever(tags=['FAISS', 'GoogleGenerativeAIEmbeddings'], vectorstore=<langchain_community.vectorstores.faiss.FAISS object at 0x10e7e9e80>, search_kwargs={'k': 4})"
      ]
     },
     "execution_count": 9,
     "metadata": {},
     "output_type": "execute_result"
    }
   ],
   "source": [
    "retriever = vector_store.as_retriever(\n",
    "   search_type = \"similarity\", # Other types: mmr, similarity_score_threshold, \n",
    "   search_kwargs = {\n",
    "      \"k\":4,\n",
    "      # other kwargs : \n",
    "      # \"score_threshold\":0.5\n",
    "   }\n",
    ")\n",
    "retriever"
   ]
  },
  {
   "cell_type": "code",
   "execution_count": 10,
   "id": "bc3d250a",
   "metadata": {},
   "outputs": [
    {
     "data": {
      "text/plain": [
       "\"ensure that it happens and that it happens with the highest degree of efficiency even though that morning 90minute work block is so vital. Of course there's a second work block. So, combined that's just three hours of focused work, which may not seem like a lot, but if you were to dissect your day and kind of look at the arc and structure of your day, I'd be willing to bet that if we added up the total period of time in which you were in deep work, really focused, dedicated work, that it would probably amount to about 3 or 4 hours. And of course, throughout the day, there are other things happening outside of those 90-minute work blocks. I'm checking my text messages. I'm checking my email. I'm responding to various demands. I'm working and tending to life. So, while I've carved some boundaries or delineated some boundaries around those work blocks, and I'm certain that if you do too, you will benefit from them. Of course, please adapt and modify what I've described today in ways that\""
      ]
     },
     "execution_count": 10,
     "metadata": {},
     "output_type": "execute_result"
    }
   ],
   "source": [
    "query = \"give a 3 step daily routine to improve productivity.\"\n",
    "relevant_chunks= retriever.invoke(query)\n",
    "relevant_chunks[0].page_content"
   ]
  },
  {
   "cell_type": "markdown",
   "id": "b82ea014",
   "metadata": {},
   "source": [
    "### Creating a Template \n",
    "relevant chunks + the query provided by the user"
   ]
  },
  {
   "cell_type": "code",
   "execution_count": 11,
   "id": "829756f6",
   "metadata": {},
   "outputs": [],
   "source": [
    "context = \"\\n\\n\".join([chunk.page_content for chunk in relevant_chunks])\n",
    "template = f'''You are a professional productivity coach, and you explain the queries in very comprehensive and easy manner. so based on this consider the below data: \n",
    "{context}\n",
    "\n",
    "Now, consider the above points and based on it answer the question: {query}'''"
   ]
  },
  {
   "cell_type": "code",
   "execution_count": 12,
   "id": "ed412f56",
   "metadata": {},
   "outputs": [],
   "source": [
    "from langchain_core.prompts import PromptTemplate\n",
    "\n",
    "prompt_template = PromptTemplate(\n",
    "   template=f'''You are a professional productivity coach, and you explain the queries in very comprehensive and easy manner. so based on this consider the below data: \n",
    "   {context}\n",
    "\n",
    "   Now, consider the above points and based on it answer the question: {query}''',\n",
    "   input_variables = ['context','query']\n",
    ")\n",
    "\n",
    "prompt = prompt_template.invoke({\"context\":context,\"query\":query})"
   ]
  },
  {
   "cell_type": "code",
   "execution_count": 13,
   "id": "1357b790",
   "metadata": {},
   "outputs": [
    {
     "data": {
      "text/plain": [
       "{'text': \"You are a professional productivity coach, and you explain the queries in very comprehensive and easy manner. so based on this consider the below data: \\n   ensure that it happens and that it happens with the highest degree of efficiency even though that morning 90minute work block is so vital. Of course there's a second work block. So, combined that's just three hours of focused work, which may not seem like a lot, but if you were to dissect your day and kind of look at the arc and structure of your day, I'd be willing to bet that if we added up the total period of time in which you were in deep work, really focused, dedicated work, that it would probably amount to about 3 or 4 hours. And of course, throughout the day, there are other things happening outside of those 90-minute work blocks. I'm checking my text messages. I'm checking my email. I'm responding to various demands. I'm working and tending to life. So, while I've carved some boundaries or delineated some boundaries around those work blocks, and I'm certain that if you do too, you will benefit from them. Of course, please adapt and modify what I've described today in ways that\\n\\ndim. But if you flip on those lights, try and flip them off as soon as possible and try and get back into bed. So now we've essentially traveled around the clock, so to speak, from the time where one wakes up until the time they get to sleep, maybe wake up, get back to sleep, etc. I want to emphasize that although people's schedules vary, most people are doing more than one or two workouts per day. And indeed, I'm doing more than one or two workouts per day. I really emphasize that morning 90minute work block because I think most people would agree that there's a portion of each day in which we need to do the hardest thing or the most important thing or the thing that demands the most of our cognitive self. I position that early in the day and I position everything around that in order to ensure that it happens and that it happens with the highest degree of efficiency even though that morning 90minute work block is so vital. Of course there's a second work block. So, combined that's\\n\\neverything from sleep to learning, creativity, meal timing, etc. I'm going to do this in the context of my day and what I typically do. I tend to wake up sometime around 6:00 a.m. 6:30. The first thing I do after I wake up is I take the pen that's on my nightstand and the pad of paper on my nightstand and I write down the time in which I woke up. The reason for writing down what time I wake up is because I want to know what's called my temperature minimum. I don't care what my actual temperature is. I care when my lowest temperature is. And I know that that lowest temperature is approximately 2 hours before my average wake up time. The second thing I do after I wake up is to get into forward ambulation, which is just nerd speak for taking a walk. There's a phenomenon whereby when we generate our own forward motion, forward ambulation, visual images pass by us on our eyes, so-called optic flow, experiencing visual flow has a powerful effect on the nervous system. The effect it has is\\n\\nor are angling their eyes at their screen at about 30°. When we look down, when our eyelids are slightly closed, it tends to decrease our levels of alertness and increase our levels of sleepiness. So we're now at the description of my day and these protocols in which I would do a 90inute bout of work. Now why 90 minutes? Well, the brain is going through these 90minut so-called altradian cycles throughout the entire day and night. Every 90 minutes we shift over from being very alert to being less alert and then back to alert again. Here's how it works. At the start of one of these 90-minute altradian cycles, my brain is not quite engaged in whatever it is I'm trying to do, but I set a timer for 90 minutes and I try and get a strong bout of work done inside of that 90 minutes with the full understanding that the entire 90 minutes is not going to be uniform in terms of my ability to focus. So, the goal is to get into what I call the tunnel, to really get into a tunnel of quality work.\\n\\n   Now, consider the above points and based on it answer the question: give a 3 step daily routine to improve productivity.\",\n",
       " 'type': 'StringPromptValue'}"
      ]
     },
     "execution_count": 13,
     "metadata": {},
     "output_type": "execute_result"
    }
   ],
   "source": [
    "prompt.__dict__"
   ]
  },
  {
   "cell_type": "markdown",
   "id": "e1da40a2",
   "metadata": {},
   "source": [
    "### Generating Output"
   ]
  },
  {
   "cell_type": "code",
   "execution_count": 14,
   "id": "f732713a",
   "metadata": {},
   "outputs": [
    {
     "name": "stderr",
     "output_type": "stream",
     "text": [
      "E0000 00:00:1759757057.893446 1252069 alts_credentials.cc:93] ALTS creds ignored. Not running on GCP and untrusted ALTS is not enabled.\n"
     ]
    },
    {
     "data": {
      "text/plain": [
       "'Hello there! As your productivity coach, I\\'m thrilled to break down the valuable insights from the provided text into a clear, actionable 3-step daily routine designed to significantly boost your efficiency and focus.\\n\\nThe core idea here is to intentionally structure your day to align with your natural energy cycles and prioritize deep, impactful work. Let\\'s dive into a routine that leverages these principles:\\n\\n---\\n\\n### Your 3-Step Daily Routine to Unlock Peak Productivity:\\n\\nThis routine is crafted to optimize your focus and energy, ensuring you tackle your most important tasks when your brain is at its best.\\n\\n---\\n\\n#### **Step 1: The Intentional Start – Wake Up & Walk It Out**\\n\\nYour morning sets the tone for your entire day, and the text emphasizes a very deliberate beginning.\\n\\n*   **Wake-Up & Record (Around 6:00 - 6:30 AM):** The first thing mentioned is waking up around 6:00-6:30 AM and immediately recording your wake-up time. While the text mentions this is to track your \"temperature minimum\" (the lowest point of your body temperature, which indicates your natural sleep-wake rhythm), the actionable takeaway for productivity is to create a consistent wake-up time and acknowledge the start of your day with a simple, mindful action.\\n*   **Embrace \"Forward Ambulation\" (Your Morning Walk):** Immediately after waking and recording, the text highly recommends getting into \"forward ambulation,\" which is simply taking a walk. This isn\\'t just about physical activity; it\\'s about leveraging a powerful neurological effect called \"optic flow.\" As you move forward and visual images pass by your eyes, it has a profound positive impact on your nervous system, helping to reduce sleepiness and increase alertness, setting you up for a focused day.\\n\\n    **Why this works:** This initial phase is about gently transitioning your brain from sleep to wakefulness. The consistent wake-up time helps regulate your body clock, and the morning walk, with its \"optic flow\" benefits, primes your brain for alertness and reduces any lingering grogginess, preparing you for the focused work ahead.\\n\\n---\\n\\n#### **Step 2: Conquer Your Deep Work with 90-Minute Focus Blocks**\\n\\nThis is the cornerstone of the routine, designed to maximize your most productive hours by aligning with your brain\\'s natural cycles.\\n\\n*   **Prioritize Your \"Hardest Thing\" First:** The text strongly advocates for a \"morning 90-minute work block\" dedicated to the \"hardest thing or the most important thing or the thing that demands the most of our cognitive self.\" This is your prime time for deep, concentrated work.\\n*   **Leverage 90-Minute Ultradian Cycles:** Our brains naturally cycle through periods of high alertness and lower alertness approximately every 90 minutes (these are called \"ultradian cycles\"). By setting a timer for 90 minutes, you\\'re working *with* your brain\\'s natural rhythm.\\n*   **Aim for \"The Tunnel\" of Quality Work:** During these blocks, your goal is to \"get into what I call the tunnel,\" meaning a state of deep, uninterrupted focus. Understand that you won\\'t be uniformly focused for the entire 90 minutes, but the intention is to maximize that period for quality work. The text also mentions a \"second work block,\" implying another 90-minute session later in the day, totaling about three hours of highly focused work.\\n\\n    **Why this works:** By dedicating specific, timed blocks to your most demanding tasks, especially when your brain is naturally most alert (morning), you ensure that your highest-impact work gets done efficiently. This method, rooted in ultradian rhythms, helps you achieve genuine \"deep work\" rather than fragmented, distracted effort.\\n\\n---\\n\\n#### **Step 3: Guard Your Focus – Set Boundaries & Minimize Distractions**\\n\\nWhile the work blocks are vital, the text acknowledges that \"throughout the day, there are other things happening.\" This step is about protecting the integrity of your focus.\\n\\n*   **Delineate Clear Boundaries Around Work Blocks:** The speaker emphasizes \"carved some boundaries or delineated some boundaries around those work blocks.\" This means consciously deciding when you are *in* a work block and when you are not.\\n*   **Manage Interruptions & \"Life Demands\":** The text explicitly mentions activities like \"checking my text messages,\" \"checking my email,\" and \"responding to various demands\" as things that happen *outside* of those dedicated work blocks. The implication is to minimize these during your deep work periods. While life happens and you need to \"tend to life,\" the key is to prevent these from constantly fragmenting your focused work time.\\n*   **Adapt and Modify:** Importantly, the text concludes by encouraging you to \"adapt and modify what I\\'ve described today in ways that...\" This means taking these principles and adjusting them to fit your unique schedule and demands, ensuring the boundaries you set are sustainable for *you*.\\n\\n    **Why this works:** Even the most perfectly planned work blocks can be derailed by constant interruptions. By consciously setting and enforcing boundaries around your focus time, you create a protected space for deep work, significantly enhancing the efficiency and quality of your output. It’s about being intentional with your attention, rather than letting it be pulled in a million directions.\\n\\n---\\n\\nBy integrating these three steps into your daily routine – starting intentionally, dedicating focused blocks to deep work, and actively protecting that focus – you\\'ll be well on your way to a more productive and fulfilling day. Remember, consistency and adaptation are your best allies on this journey!'"
      ]
     },
     "execution_count": 14,
     "metadata": {},
     "output_type": "execute_result"
    }
   ],
   "source": [
    "from langchain_google_genai import ChatGoogleGenerativeAI\n",
    "\n",
    "llm = ChatGoogleGenerativeAI(model=\"gemini-2.5-flash\")\n",
    "ai_msg = llm.invoke(prompt)\n",
    "ai_msg.content"
   ]
  },
  {
   "cell_type": "markdown",
   "id": "114f5ec2",
   "metadata": {},
   "source": [
    "### Implementing Langchain\n",
    "\n",
    "Every Runnable component is designed to perform a specific task: it accepts an input, processes it, and returns an output in a consistent and predictable manner. A chain composed of multiple Runnables is also a Runnable itself, meaning it can be invoked, streamed, or further combined with other components.\n",
    "\n",
    "**Core concepts of a Runnable**\n",
    "* **Standard interface:** All Runnables expose standard methods like invoke, batch, and stream for handling single inputs, multiple inputs, or streaming outputs.\n",
    "* **Composability:** You can chain Runnables together using the pipe | operator, where the output of one component automatically becomes the input for the next.\n",
    "* **Asynchronous support:** All Runnables can be executed asynchronously, allowing for efficient, concurrent processing. \n"
   ]
  },
  {
   "cell_type": "code",
   "execution_count": 12,
   "id": "2e599dd8",
   "metadata": {},
   "outputs": [],
   "source": [
    "from langchain_core.runnables import RunnableParallel , RunnablePassthrough, RunnableLambda\n",
    "from langchain_core.output_parsers import StrOutputParser"
   ]
  },
  {
   "cell_type": "code",
   "execution_count": 13,
   "id": "3ea90334",
   "metadata": {},
   "outputs": [],
   "source": [
    "def format_docs(relevant_chunks):\n",
    "   context_text = \"\\n\\n\".join(doc.page_content for doc in relevant_chunks)\n",
    "   return context_text\n"
   ]
  },
  {
   "cell_type": "code",
   "execution_count": 28,
   "id": "7d04f392",
   "metadata": {},
   "outputs": [],
   "source": [
    "''' \n",
    "RunnableParallel:\tExecutes multiple Runnables concurrently with the same input, collecting their outputs into a single dictionary.\n",
    "\n",
    "RunnableLambda:\tWraps any standard Python function, allowing you to insert custom logic into a chain.\n",
    "\n",
    "RunnablePassthrough:\tActs as an identity function, passing its input through unchanged. It's often used with RunnableParallel to preserve the original input for later steps.\n",
    "'''\n",
    "\n",
    "parallel_chain = RunnableParallel({\n",
    "   'context':retriever | RunnableLambda(format_docs),\n",
    "   'query': RunnablePassthrough() # This tells the chain to take the original input (the query \"What is a runnable?\") and pass it to this key\n",
    "})"
   ]
  },
  {
   "cell_type": "code",
   "execution_count": 29,
   "id": "826d168b",
   "metadata": {},
   "outputs": [
    {
     "data": {
      "text/plain": [
       "{'context': \"ensure that it happens and that it happens with the highest degree of efficiency even though that morning 90minute work block is so vital. Of course there's a second work block. So, combined that's just three hours of focused work, which may not seem like a lot, but if you were to dissect your day and kind of look at the arc and structure of your day, I'd be willing to bet that if we added up the total period of time in which you were in deep work, really focused, dedicated work, that it would probably amount to about 3 or 4 hours. And of course, throughout the day, there are other things happening outside of those 90-minute work blocks. I'm checking my text messages. I'm checking my email. I'm responding to various demands. I'm working and tending to life. So, while I've carved some boundaries or delineated some boundaries around those work blocks, and I'm certain that if you do too, you will benefit from them. Of course, please adapt and modify what I've described today in ways that\\n\\nunderstanding that the entire 90 minutes is not going to be uniform in terms of my ability to focus. So, the goal is to get into what I call the tunnel, to really get into a tunnel of quality work. The brain loves that state, but it's very hard for many of us to access. My phone is absolutely off. It's not on airplane mode. It's absolutely off during this time. In addition, I use low-level white noise. White noise, which is essentially all frequencies of sound or all frequencies of sound that we can perceive mixed up kind of randomly. There's no structure to it, turned on at a low volume puts the brain into a state that's optimal for learning and workflow. So everything about this 90-minute block, from the low levels of white noise to the position of my computer, how I'm standing and where my eyes are positioned is geared towards putting me in this tunnel of work. And I have to say that while it can be a challenge to try and achieve this state and this tunnel of work, some days, you\\n\\nmy eyes are positioned is geared towards putting me in this tunnel of work. And I have to say that while it can be a challenge to try and achieve this state and this tunnel of work, some days, you start to get kind of addicted to it. It feels really good. It's like a workout for the mind. And it uh is something that as you exit that 90 minutes, you really feel like you've accomplished a lot because often um you have and it just feels deeply satisfying. And I'm convinced that that's because of the release of neurom modulators like dopamine and the uh norepinephrine that's circulating in your system. And I want to be clear that I'm not perfect about this 90 minutes. Occasionally I get drawn away, but I really try and achieve this most if not every day that I'm alive because for me that work session is kind of holy. There's a powerful way in which you can place the timing of this 90minute workout in an optimal way. You have access to a very important piece of data that dictates when this\\n\\nor are angling their eyes at their screen at about 30°. When we look down, when our eyelids are slightly closed, it tends to decrease our levels of alertness and increase our levels of sleepiness. So we're now at the description of my day and these protocols in which I would do a 90inute bout of work. Now why 90 minutes? Well, the brain is going through these 90minut so-called altradian cycles throughout the entire day and night. Every 90 minutes we shift over from being very alert to being less alert and then back to alert again. Here's how it works. At the start of one of these 90-minute altradian cycles, my brain is not quite engaged in whatever it is I'm trying to do, but I set a timer for 90 minutes and I try and get a strong bout of work done inside of that 90 minutes with the full understanding that the entire 90 minutes is not going to be uniform in terms of my ability to focus. So, the goal is to get into what I call the tunnel, to really get into a tunnel of quality work.\",\n",
       " 'query': 'Define productivity in 5 words'}"
      ]
     },
     "execution_count": 29,
     "metadata": {},
     "output_type": "execute_result"
    }
   ],
   "source": [
    "parallel_chain.invoke(\"Define productivity in 5 words\")"
   ]
  },
  {
   "cell_type": "code",
   "execution_count": null,
   "id": "b5700eff",
   "metadata": {},
   "outputs": [],
   "source": [
    "'''\n",
    "StrOutputParser(): is the simplest and most common output parser in LangChain. Its purpose is to take the output from a language model, which can be a complex object like a BaseMessage, and extract the plain string content. This ensures the final output of a chain is a simple, usable string that can be easily displayed, logged, or passed to the next component.\n",
    "'''\n",
    "\n",
    "parser = StrOutputParser()"
   ]
  },
  {
   "cell_type": "code",
   "execution_count": 37,
   "id": "180c8869",
   "metadata": {},
   "outputs": [],
   "source": [
    "main_chain = parallel_chain | prompt_template | llm | parser"
   ]
  },
  {
   "cell_type": "code",
   "execution_count": null,
   "id": "0dac872e",
   "metadata": {},
   "outputs": [
    {
     "data": {
      "text/plain": [
       "'Hello there! As your productivity coach, I\\'m thrilled to break down the essence of a highly effective daily routine for you. What we\\'ve just explored highlights some incredibly powerful strategies for maximizing focus and efficiency, not just in your work, but in how you navigate your entire day.\\n\\nIt\\'s not about working *more* hours, but about working *smarter* and with deeper intention. By understanding your brain\\'s natural rhythms and setting up your day strategically, you can achieve remarkable results.\\n\\nLet\\'s distill these insights into a practical, 3-step daily routine designed to significantly boost your productivity:\\n\\n---\\n\\n### Your 3-Step Daily Routine for Enhanced Productivity:\\n\\n#### **Step 1: The Energized Start & Your Cognitive Peak**\\n\\nThis step is all about setting the stage for a highly productive day by leveraging your natural morning energy and tackling your most demanding tasks when your brain is freshest.\\n\\n*   **Wake Up & Get Moving (Optic Flow):** Start your day by waking around a consistent time (e.g., 6:00-6:30 AM, as our speaker does). Immediately after waking, engage in what\\'s called \"forward ambulation\" – simply put, go for a walk. This isn\\'t just for exercise; the visual input (optic flow) from objects passing by as you move forward has a powerful and immediate alerting effect on your nervous system, signaling to your brain that it\\'s time to be awake and engaged.\\n*   **Tackle Your \"Hardest Thing\" (The Morning 90-Minute Block):** This is the cornerstone of your productive day. Identify the most important, cognitively demanding, or challenging task you need to accomplish. Position this task early in your day, immediately following your morning wake-up and walk. Set a timer for **90 minutes**. This duration aligns with your brain\\'s natural \"ultradian cycles,\" where you transition from high alertness to lower alertness. Your goal during this block is to dive deep, aiming to get into a \"tunnel of quality work\" with intense focus. This ensures your most vital work gets done with the highest degree of efficiency.\\n\\n#### **Step 2: Structured Deep Work & Guarded Focus**\\n\\nAfter your initial high-intensity morning block, the focus shifts to maintaining deep work through structured sessions while actively protecting your concentration from common distractions.\\n\\n*   **Implement a Second Focused Work Block:** Don\\'t stop at just one! Your day can accommodate a second focused work block, ideally also around **90 minutes**. Combined with your morning session, this gives you a powerful **three hours of dedicated, deep work**. This may not seem like a lot, but for most people, the total time spent in truly focused, deep work throughout an entire day rarely exceeds 3-4 hours anyway. By intentionally carving out these blocks, you ensure that time is spent effectively.\\n*   **Delineate Boundaries & Minimize Distractions:** Crucially, during *both* of these 90-minute work blocks, you must actively \"carve some boundaries.\" This means consciously stepping away from common distractions that fragment your focus. The speaker explicitly mentions checking text messages, emails, and responding to various demands. While these are part of life, they should be managed *outside* of your deep work blocks. By setting these boundaries, you create an environment conducive to truly getting into that \"tunnel of quality work\" and benefiting immensely from these focused periods.\\n\\n#### **Step 3: Integrate Movement, Manage Life, & Adapt**\\n\\nProductivity isn\\'t just about work blocks; it\\'s about how you manage your entire day, including physical well-being and flexibility.\\n\\n*   **Incorporate Regular Movement:** The text highlights the importance of physical activity, noting that the speaker (and many others) integrate \"more than one or two workouts per day.\" This isn\\'t just for fitness; physical activity can significantly impact cognitive function, energy levels, and overall well-being, all of which support sustained productivity. Find ways to integrate movement throughout your day, not just as a single event.\\n*   **Tend to Life Between Focused Blocks:** Acknowledge that \"throughout the day, there are other things happening.\" Between your deep work blocks, and perhaps after them, you\\'ll be \"checking text messages,\" \"checking email,\" \"responding to various demands,\" and \"tending to life.\" The key here is to manage these activities deliberately, so they don\\'t bleed into and disrupt your planned deep work sessions. Use the breaks *between* your 90-minute blocks to handle these lighter, more reactive tasks.\\n*   **Adapt & Modify for Your Needs:** Finally, remember that this is a framework. The speaker explicitly states, \"please adapt and modify what I\\'ve described today in ways that\" suit you. While the core principles (morning walk, 90-minute deep work blocks, boundary setting) are powerful, your specific wake-up time, type of work, or personal commitments may require adjustments. The goal is to apply the *principles* of focused work, leveraging your brain\\'s natural cycles and protecting your attention, in a way that works best for *your* unique schedule and life.\\n\\n---\\n\\nBy consistently applying these three steps, you\\'ll create a powerful structure for your day that prioritizes deep, meaningful work, leverages your natural energy cycles, and consciously protects your focus. This isn\\'t just about doing more; it\\'s about achieving more of what truly matters, with greater ease and efficiency. You\\'ve got this!'"
      ]
     },
     "execution_count": 38,
     "metadata": {},
     "output_type": "execute_result"
    }
   ],
   "source": [
    "main_chain.invoke(\"summarize the video .\")"
   ]
  },
  {
   "cell_type": "code",
   "execution_count": null,
   "id": "7a89f086",
   "metadata": {},
   "outputs": [],
   "source": []
  }
 ],
 "metadata": {
  "kernelspec": {
   "display_name": "genai-lab",
   "language": "python",
   "name": "python3"
  },
  "language_info": {
   "codemirror_mode": {
    "name": "ipython",
    "version": 3
   },
   "file_extension": ".py",
   "mimetype": "text/x-python",
   "name": "python",
   "nbconvert_exporter": "python",
   "pygments_lexer": "ipython3",
   "version": "3.13.5"
  }
 },
 "nbformat": 4,
 "nbformat_minor": 5
}
